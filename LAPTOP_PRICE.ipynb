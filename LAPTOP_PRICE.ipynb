{
  "cells": [
    {
      "cell_type": "markdown",
      "metadata": {
        "id": "view-in-github",
        "colab_type": "text"
      },
      "source": [
        "<a href=\"https://colab.research.google.com/github/Anand-1932/Laptop_Price_Prediction/blob/main/LAPTOP_PRICE.ipynb\" target=\"_parent\"><img src=\"https://colab.research.google.com/assets/colab-badge.svg\" alt=\"Open In Colab\"/></a>"
      ]
    },
    {
      "cell_type": "markdown",
      "id": "debeedfc",
      "metadata": {
        "toc": true,
        "id": "debeedfc"
      },
      "source": [
        "<h1>CONTENTS<span class=\"tocSkip\"></span></h1>\n",
        "<div class=\"toc\"><ul class=\"toc-item\"><li><span><a href=\"#SOURCE\" data-toc-modified-id=\"SOURCE-1\"><span class=\"toc-item-num\">1&nbsp;&nbsp;</span>SOURCE</a></span></li><li><span><a href=\"#ABOUT-PROJECT\" data-toc-modified-id=\"ABOUT-PROJECT-2\"><span class=\"toc-item-num\">2&nbsp;&nbsp;</span>ABOUT PROJECT</a></span></li><li><span><a href=\"#IMPORTING-LIBRARIES\" data-toc-modified-id=\"IMPORTING-LIBRARIES-3\"><span class=\"toc-item-num\">3&nbsp;&nbsp;</span>IMPORTING LIBRARIES</a></span></li><li><span><a href=\"#IMPORTING-DATA\" data-toc-modified-id=\"IMPORTING-DATA-4\"><span class=\"toc-item-num\">4&nbsp;&nbsp;</span>IMPORTING DATA</a></span></li><li><span><a href=\"#STATISTICAL-ANALYSIS\" data-toc-modified-id=\"STATISTICAL-ANALYSIS-5\"><span class=\"toc-item-num\">5&nbsp;&nbsp;</span>STATISTICAL ANALYSIS</a></span><ul class=\"toc-item\"><li><span><a href=\"#STATISTICAL-SUMMARY\" data-toc-modified-id=\"STATISTICAL-SUMMARY-5.1\"><span class=\"toc-item-num\">5.1&nbsp;&nbsp;</span>STATISTICAL SUMMARY</a></span></li><li><span><a href=\"#DROPPING-THE-UNIQUE-COLUMN\" data-toc-modified-id=\"DROPPING-THE-UNIQUE-COLUMN-5.2\"><span class=\"toc-item-num\">5.2&nbsp;&nbsp;</span>DROPPING THE UNIQUE COLUMN</a></span></li></ul></li><li><span><a href=\"#EXPLORATORY-DATA-ANALYSIS\" data-toc-modified-id=\"EXPLORATORY-DATA-ANALYSIS-6\"><span class=\"toc-item-num\">6&nbsp;&nbsp;</span>EXPLORATORY DATA ANALYSIS</a></span><ul class=\"toc-item\"><li><span><a href=\"#EXTRACTING-COLUMNS\" data-toc-modified-id=\"EXTRACTING-COLUMNS-6.1\"><span class=\"toc-item-num\">6.1&nbsp;&nbsp;</span>EXTRACTING COLUMNS</a></span></li><li><span><a href=\"#DATA-VISUALIZATION\" data-toc-modified-id=\"DATA-VISUALIZATION-6.2\"><span class=\"toc-item-num\">6.2&nbsp;&nbsp;</span>DATA VISUALIZATION</a></span><ul class=\"toc-item\"><li><span><a href=\"#BASIC-LINE-PLOTS\" data-toc-modified-id=\"BASIC-LINE-PLOTS-6.2.1\"><span class=\"toc-item-num\">6.2.1&nbsp;&nbsp;</span>BASIC LINE PLOTS</a></span></li><li><span><a href=\"#OPERATING-SYSTEM-AND--SIZE-DISTRIBUTION\" data-toc-modified-id=\"OPERATING-SYSTEM-AND--SIZE-DISTRIBUTION-6.2.2\"><span class=\"toc-item-num\">6.2.2&nbsp;&nbsp;</span>OPERATING SYSTEM AND  SIZE DISTRIBUTION</a></span></li><li><span><a href=\"#PRICE-DISTRIBUTION\" data-toc-modified-id=\"PRICE-DISTRIBUTION-6.2.3\"><span class=\"toc-item-num\">6.2.3&nbsp;&nbsp;</span>PRICE DISTRIBUTION</a></span></li><li><span><a href=\"#RAM-DISTRIBUTION\" data-toc-modified-id=\"RAM-DISTRIBUTION-6.2.4\"><span class=\"toc-item-num\">6.2.4&nbsp;&nbsp;</span>RAM DISTRIBUTION</a></span></li><li><span><a href=\"#TOUCHSCREEN\" data-toc-modified-id=\"TOUCHSCREEN-6.2.5\"><span class=\"toc-item-num\">6.2.5&nbsp;&nbsp;</span>TOUCHSCREEN</a></span></li><li><span><a href=\"#SIZE-DISTRIBUTION-WRT-CPU-TYPES\" data-toc-modified-id=\"SIZE-DISTRIBUTION-WRT-CPU-TYPES-6.2.6\"><span class=\"toc-item-num\">6.2.6&nbsp;&nbsp;</span>SIZE DISTRIBUTION WRT CPU TYPES</a></span></li></ul></li><li><span><a href=\"#OUTLIERS\" data-toc-modified-id=\"OUTLIERS-6.3\"><span class=\"toc-item-num\">6.3&nbsp;&nbsp;</span>OUTLIERS</a></span><ul class=\"toc-item\"><li><span><a href=\"#DETECTING-OUTLIERS\" data-toc-modified-id=\"DETECTING-OUTLIERS-6.3.1\"><span class=\"toc-item-num\">6.3.1&nbsp;&nbsp;</span>DETECTING OUTLIERS</a></span></li><li><span><a href=\"#TREATING-OUTLIERS\" data-toc-modified-id=\"TREATING-OUTLIERS-6.3.2\"><span class=\"toc-item-num\">6.3.2&nbsp;&nbsp;</span>TREATING OUTLIERS</a></span></li></ul></li></ul></li><li><span><a href=\"#DATA-CLEANING\" data-toc-modified-id=\"DATA-CLEANING-7\"><span class=\"toc-item-num\">7&nbsp;&nbsp;</span>DATA CLEANING</a></span><ul class=\"toc-item\"><li><span><a href=\"#NULL-VALUES\" data-toc-modified-id=\"NULL-VALUES-7.1\"><span class=\"toc-item-num\">7.1&nbsp;&nbsp;</span>NULL VALUES</a></span></li><li><span><a href=\"#CATEGORICAL-COLUMNS\" data-toc-modified-id=\"CATEGORICAL-COLUMNS-7.2\"><span class=\"toc-item-num\">7.2&nbsp;&nbsp;</span>CATEGORICAL COLUMNS</a></span></li><li><span><a href=\"#CORRELATION\" data-toc-modified-id=\"CORRELATION-7.3\"><span class=\"toc-item-num\">7.3&nbsp;&nbsp;</span>CORRELATION</a></span></li></ul></li><li><span><a href=\"#DATA-PREPROCESSING\" data-toc-modified-id=\"DATA-PREPROCESSING-8\"><span class=\"toc-item-num\">8&nbsp;&nbsp;</span>DATA PREPROCESSING</a></span></li><li><span><a href=\"#PREDICTIVE-MODELING\" data-toc-modified-id=\"PREDICTIVE-MODELING-9\"><span class=\"toc-item-num\">9&nbsp;&nbsp;</span>PREDICTIVE MODELING</a></span><ul class=\"toc-item\"><li><span><a href=\"#LINEAR-REGRESSION\" data-toc-modified-id=\"LINEAR-REGRESSION-9.1\"><span class=\"toc-item-num\">9.1&nbsp;&nbsp;</span>LINEAR REGRESSION</a></span><ul class=\"toc-item\"><li><span><a href=\"#PREDICTION-&amp;-PERFORMANCE-EVALUATION\" data-toc-modified-id=\"PREDICTION-&amp;-PERFORMANCE-EVALUATION-9.1.1\"><span class=\"toc-item-num\">9.1.1&nbsp;&nbsp;</span>PREDICTION &amp; PERFORMANCE EVALUATION</a></span></li><li><span><a href=\"#CHECKING-FOR-ASSUMPTIONS\" data-toc-modified-id=\"CHECKING-FOR-ASSUMPTIONS-9.1.2\"><span class=\"toc-item-num\">9.1.2&nbsp;&nbsp;</span>CHECKING FOR ASSUMPTIONS</a></span><ul class=\"toc-item\"><li><span><a href=\"#NORMAL-DISTRIBUTION\" data-toc-modified-id=\"NORMAL-DISTRIBUTION-9.1.2.1\"><span class=\"toc-item-num\">9.1.2.1&nbsp;&nbsp;</span>NORMAL DISTRIBUTION</a></span></li><li><span><a href=\"#HOMOSCEDASTICITY\" data-toc-modified-id=\"HOMOSCEDASTICITY-9.1.2.2\"><span class=\"toc-item-num\">9.1.2.2&nbsp;&nbsp;</span>HOMOSCEDASTICITY</a></span></li><li><span><a href=\"#LINEARITY\" data-toc-modified-id=\"LINEARITY-9.1.2.3\"><span class=\"toc-item-num\">9.1.2.3&nbsp;&nbsp;</span>LINEARITY</a></span></li></ul></li></ul></li><li><span><a href=\"#RIDGE-REGRESSION\" data-toc-modified-id=\"RIDGE-REGRESSION-9.2\"><span class=\"toc-item-num\">9.2&nbsp;&nbsp;</span>RIDGE REGRESSION</a></span><ul class=\"toc-item\"><li><span><a href=\"#CHECKING-FOR-ASSUMPTIONS\" data-toc-modified-id=\"CHECKING-FOR-ASSUMPTIONS-9.2.1\"><span class=\"toc-item-num\">9.2.1&nbsp;&nbsp;</span>CHECKING FOR ASSUMPTIONS</a></span><ul class=\"toc-item\"><li><span><a href=\"#NORMALITY\" data-toc-modified-id=\"NORMALITY-9.2.1.1\"><span class=\"toc-item-num\">9.2.1.1&nbsp;&nbsp;</span>NORMALITY</a></span></li><li><span><a href=\"#HOMOSCEDASTICITY\" data-toc-modified-id=\"HOMOSCEDASTICITY-9.2.1.2\"><span class=\"toc-item-num\">9.2.1.2&nbsp;&nbsp;</span>HOMOSCEDASTICITY</a></span></li><li><span><a href=\"#LINEARITY\" data-toc-modified-id=\"LINEARITY-9.2.1.3\"><span class=\"toc-item-num\">9.2.1.3&nbsp;&nbsp;</span>LINEARITY</a></span></li></ul></li></ul></li><li><span><a href=\"#DECISION-TREE-REGRESSION\" data-toc-modified-id=\"DECISION-TREE-REGRESSION-9.3\"><span class=\"toc-item-num\">9.3&nbsp;&nbsp;</span>DECISION TREE REGRESSION</a></span><ul class=\"toc-item\"><li><span><a href=\"#CHECKING-FOR-ASSUMPTIONS\" data-toc-modified-id=\"CHECKING-FOR-ASSUMPTIONS-9.3.1\"><span class=\"toc-item-num\">9.3.1&nbsp;&nbsp;</span>CHECKING FOR ASSUMPTIONS</a></span><ul class=\"toc-item\"><li><span><a href=\"#NORMALITY\" data-toc-modified-id=\"NORMALITY-9.3.1.1\"><span class=\"toc-item-num\">9.3.1.1&nbsp;&nbsp;</span>NORMALITY</a></span></li><li><span><a href=\"#HOMOSCEDASTICITY\" data-toc-modified-id=\"HOMOSCEDASTICITY-9.3.1.2\"><span class=\"toc-item-num\">9.3.1.2&nbsp;&nbsp;</span>HOMOSCEDASTICITY</a></span></li><li><span><a href=\"#LINEARITY\" data-toc-modified-id=\"LINEARITY-9.3.1.3\"><span class=\"toc-item-num\">9.3.1.3&nbsp;&nbsp;</span>LINEARITY</a></span></li></ul></li></ul></li><li><span><a href=\"#RANDOM-FOREST-REGRESSION\" data-toc-modified-id=\"RANDOM-FOREST-REGRESSION-9.4\"><span class=\"toc-item-num\">9.4&nbsp;&nbsp;</span>RANDOM FOREST REGRESSION</a></span><ul class=\"toc-item\"><li><span><a href=\"#CHECKING-FOR-ASSUMPTIONS\" data-toc-modified-id=\"CHECKING-FOR-ASSUMPTIONS-9.4.1\"><span class=\"toc-item-num\">9.4.1&nbsp;&nbsp;</span>CHECKING FOR ASSUMPTIONS</a></span><ul class=\"toc-item\"><li><span><a href=\"#NORMALITY\" data-toc-modified-id=\"NORMALITY-9.4.1.1\"><span class=\"toc-item-num\">9.4.1.1&nbsp;&nbsp;</span>NORMALITY</a></span></li><li><span><a href=\"#HOMOSCEDASTICITY\" data-toc-modified-id=\"HOMOSCEDASTICITY-9.4.1.2\"><span class=\"toc-item-num\">9.4.1.2&nbsp;&nbsp;</span>HOMOSCEDASTICITY</a></span></li><li><span><a href=\"#LINEARITY\" data-toc-modified-id=\"LINEARITY-9.4.1.3\"><span class=\"toc-item-num\">9.4.1.3&nbsp;&nbsp;</span>LINEARITY</a></span></li></ul></li></ul></li><li><span><a href=\"#ADABOOST-REGRESSOR\" data-toc-modified-id=\"ADABOOST-REGRESSOR-9.5\"><span class=\"toc-item-num\">9.5&nbsp;&nbsp;</span>ADABOOST REGRESSOR</a></span><ul class=\"toc-item\"><li><span><a href=\"#CHECKING-FOR-ASSUMPTIONS\" data-toc-modified-id=\"CHECKING-FOR-ASSUMPTIONS-9.5.1\"><span class=\"toc-item-num\">9.5.1&nbsp;&nbsp;</span>CHECKING FOR ASSUMPTIONS</a></span><ul class=\"toc-item\"><li><span><a href=\"#NORMALITY\" data-toc-modified-id=\"NORMALITY-9.5.1.1\"><span class=\"toc-item-num\">9.5.1.1&nbsp;&nbsp;</span>NORMALITY</a></span></li><li><span><a href=\"#HOMOSCEDASTICITY\" data-toc-modified-id=\"HOMOSCEDASTICITY-9.5.1.2\"><span class=\"toc-item-num\">9.5.1.2&nbsp;&nbsp;</span>HOMOSCEDASTICITY</a></span></li><li><span><a href=\"#LINEARITY\" data-toc-modified-id=\"LINEARITY-9.5.1.3\"><span class=\"toc-item-num\">9.5.1.3&nbsp;&nbsp;</span>LINEARITY</a></span></li></ul></li></ul></li><li><span><a href=\"#GRADIENT-BOOSTING\" data-toc-modified-id=\"GRADIENT-BOOSTING-9.6\"><span class=\"toc-item-num\">9.6&nbsp;&nbsp;</span>GRADIENT BOOSTING</a></span><ul class=\"toc-item\"><li><span><a href=\"#CHECKING-FOR-ASSUMPTIONS\" data-toc-modified-id=\"CHECKING-FOR-ASSUMPTIONS-9.6.1\"><span class=\"toc-item-num\">9.6.1&nbsp;&nbsp;</span>CHECKING FOR ASSUMPTIONS</a></span><ul class=\"toc-item\"><li><span><a href=\"#NORMALITY\" data-toc-modified-id=\"NORMALITY-9.6.1.1\"><span class=\"toc-item-num\">9.6.1.1&nbsp;&nbsp;</span>NORMALITY</a></span></li><li><span><a href=\"#HOMOSCEDASTICITY\" data-toc-modified-id=\"HOMOSCEDASTICITY-9.6.1.2\"><span class=\"toc-item-num\">9.6.1.2&nbsp;&nbsp;</span>HOMOSCEDASTICITY</a></span></li><li><span><a href=\"#LINEARITY\" data-toc-modified-id=\"LINEARITY-9.6.1.3\"><span class=\"toc-item-num\">9.6.1.3&nbsp;&nbsp;</span>LINEARITY</a></span></li></ul></li></ul></li><li><span><a href=\"#EXTREME-GRADIENT-BOOSTING\" data-toc-modified-id=\"EXTREME-GRADIENT-BOOSTING-9.7\"><span class=\"toc-item-num\">9.7&nbsp;&nbsp;</span>EXTREME GRADIENT BOOSTING</a></span><ul class=\"toc-item\"><li><span><a href=\"#CHECKING-FOR-ASSUMPTIONS\" data-toc-modified-id=\"CHECKING-FOR-ASSUMPTIONS-9.7.1\"><span class=\"toc-item-num\">9.7.1&nbsp;&nbsp;</span>CHECKING FOR ASSUMPTIONS</a></span><ul class=\"toc-item\"><li><span><a href=\"#NORMALITY\" data-toc-modified-id=\"NORMALITY-9.7.1.1\"><span class=\"toc-item-num\">9.7.1.1&nbsp;&nbsp;</span>NORMALITY</a></span></li><li><span><a href=\"#HOMOSCEDASTICITY\" data-toc-modified-id=\"HOMOSCEDASTICITY-9.7.1.2\"><span class=\"toc-item-num\">9.7.1.2&nbsp;&nbsp;</span>HOMOSCEDASTICITY</a></span></li><li><span><a href=\"#LINEARITY\" data-toc-modified-id=\"LINEARITY-9.7.1.3\"><span class=\"toc-item-num\">9.7.1.3&nbsp;&nbsp;</span>LINEARITY</a></span></li></ul></li></ul></li></ul></li><li><span><a href=\"#COMPARING-MODELS\" data-toc-modified-id=\"COMPARING-MODELS-10\"><span class=\"toc-item-num\">10&nbsp;&nbsp;</span>COMPARING MODELS</a></span><ul class=\"toc-item\"><li><span><a href=\"#GRAPHICAL-COMPARISON\" data-toc-modified-id=\"GRAPHICAL-COMPARISON-10.1\"><span class=\"toc-item-num\">10.1&nbsp;&nbsp;</span>GRAPHICAL COMPARISON</a></span></li><li><span><a href=\"#COMPARISON-OF-R2\" data-toc-modified-id=\"COMPARISON-OF-R2-10.2\"><span class=\"toc-item-num\">10.2&nbsp;&nbsp;</span>COMPARISON OF R2</a></span><ul class=\"toc-item\"><li><span><a href=\"#BEST-MODEL\" data-toc-modified-id=\"BEST-MODEL-10.2.1\"><span class=\"toc-item-num\">10.2.1&nbsp;&nbsp;</span>BEST MODEL</a></span></li></ul></li></ul></li></ul></div>"
      ]
    },
    {
      "cell_type": "markdown",
      "id": "b262b48b",
      "metadata": {
        "id": "b262b48b"
      },
      "source": [
        "## SOURCE"
      ]
    },
    {
      "cell_type": "markdown",
      "id": "63971a7b",
      "metadata": {
        "id": "63971a7b"
      },
      "source": [
        "    * The notebook focuses on predicting laptop prices using various machine learning techniques and data analysis.\n",
        "      DOI: 10.47760/ijcsmc.2022.v11i01.021"
      ]
    },
    {
      "cell_type": "markdown",
      "id": "da834478",
      "metadata": {
        "id": "da834478"
      },
      "source": [
        "## ABOUT PROJECT"
      ]
    },
    {
      "cell_type": "markdown",
      "id": "ade3451a",
      "metadata": {
        "id": "ade3451a"
      },
      "source": [
        "    The project aims to develop a predictive model for estimating laptop prices based on a comprehensive set of features\n",
        "    such as brand, and specifications. By utilizing machine learning algorithms, this project seeks to uncover patterns and\n",
        "    relationships within the dataset to create an accurate price prediction tool. Through exploratory data analysis,\n",
        "    preprocessing, feature selection, and model training, the project showcases a systematic approach to solving the laptop\n",
        "    price prediction problem, contributing to the broader field of machine learning and data analysis."
      ]
    },
    {
      "cell_type": "markdown",
      "id": "4e1ce6bd",
      "metadata": {
        "id": "4e1ce6bd"
      },
      "source": [
        "## IMPORTING LIBRARIES"
      ]
    },
    {
      "cell_type": "code",
      "execution_count": null,
      "id": "95273961",
      "metadata": {
        "ExecuteTime": {
          "end_time": "2023-08-15T15:16:52.405647Z",
          "start_time": "2023-08-15T15:16:51.292399Z"
        },
        "id": "95273961"
      },
      "outputs": [],
      "source": [
        "import warnings\n",
        "\n",
        "%matplotlib inline\n",
        "\n",
        "import numpy as np\n",
        "\n",
        "import pandas as pd\n",
        "\n",
        "import seaborn as sns\n",
        "\n",
        "import matplotlib.pyplot as plt\n",
        "\n",
        "from xgboost import XGBRFRegressor\n",
        "\n",
        "warnings.filterwarnings ( 'ignore' )\n",
        "\n",
        "from sklearn.pipeline import Pipeline\n",
        "\n",
        "pd.set_option ( \"display.max_columns\" , None )\n",
        "\n",
        "from sklearn.compose import ColumnTransformer\n",
        "\n",
        "from sklearn.preprocessing import QuantileTransformer\n",
        "\n",
        "from sklearn.linear_model import LinearRegression, Lasso, Ridge\n",
        "\n",
        "from sklearn.model_selection import GridSearchCV, train_test_split\n",
        "\n",
        "from sklearn.tree import DecisionTreeRegressor, ExtraTreeRegressor\n",
        "\n",
        "from sklearn.ensemble import AdaBoostRegressor, GradientBoostingRegressor, RandomForestRegressor\n",
        "\n",
        "from sklearn.preprocessing import LabelEncoder, MinMaxScaler, Normalizer, StandardScaler , OneHotEncoder\n",
        "\n",
        "from sklearn.metrics import r2_score, mean_absolute_percentage_error, mean_absolute_error, mean_squared_error"
      ]
    },
    {
      "cell_type": "markdown",
      "id": "8cd76361",
      "metadata": {
        "id": "8cd76361"
      },
      "source": [
        "## IMPORTING DATA"
      ]
    },
    {
      "cell_type": "code",
      "execution_count": null,
      "id": "04257091",
      "metadata": {
        "ExecuteTime": {
          "end_time": "2023-08-15T15:16:52.437016Z",
          "start_time": "2023-08-15T15:16:52.405647Z"
        },
        "id": "04257091"
      },
      "outputs": [],
      "source": [
        "DF = pd.read_csv ( \"LAPTOP_DATA.csv\" )\n",
        "\n",
        "DF"
      ]
    },
    {
      "cell_type": "markdown",
      "id": "4ab50f8c",
      "metadata": {
        "id": "4ab50f8c"
      },
      "source": [
        "## STATISTICAL ANALYSIS"
      ]
    },
    {
      "cell_type": "markdown",
      "id": "0b6a9e35",
      "metadata": {
        "id": "0b6a9e35"
      },
      "source": [
        "### STATISTICAL SUMMARY"
      ]
    },
    {
      "cell_type": "code",
      "execution_count": null,
      "id": "e6176d6e",
      "metadata": {
        "ExecuteTime": {
          "end_time": "2023-08-15T15:16:52.452653Z",
          "start_time": "2023-08-15T15:16:52.437016Z"
        },
        "id": "e6176d6e"
      },
      "outputs": [],
      "source": [
        "DF_Stats_Numeric = DF.describe ( )\n",
        "\n",
        "DF_Stats_Numeric"
      ]
    },
    {
      "cell_type": "code",
      "execution_count": null,
      "id": "a215bf17",
      "metadata": {
        "ExecuteTime": {
          "end_time": "2023-08-15T15:16:52.468275Z",
          "start_time": "2023-08-15T15:16:52.452653Z"
        },
        "id": "a215bf17"
      },
      "outputs": [],
      "source": [
        "DF_Stats_Non_Numeric = DF.describe ( exclude = np.number )\n",
        "\n",
        "DF_Stats_Non_Numeric"
      ]
    },
    {
      "cell_type": "code",
      "execution_count": null,
      "id": "883d3fa0",
      "metadata": {
        "ExecuteTime": {
          "end_time": "2023-08-15T15:16:52.483905Z",
          "start_time": "2023-08-15T15:16:52.468275Z"
        },
        "id": "883d3fa0"
      },
      "outputs": [],
      "source": [
        "DF.info ( )"
      ]
    },
    {
      "cell_type": "markdown",
      "id": "c5633738",
      "metadata": {
        "id": "c5633738"
      },
      "source": [
        "### DROPPING THE UNIQUE COLUMN"
      ]
    },
    {
      "cell_type": "code",
      "execution_count": null,
      "id": "10ca936a",
      "metadata": {
        "ExecuteTime": {
          "end_time": "2023-08-15T15:16:52.499647Z",
          "start_time": "2023-08-15T15:16:52.483905Z"
        },
        "id": "10ca936a"
      },
      "outputs": [],
      "source": [
        "DF.drop ( columns = [ 'Unnamed: 0' ] , inplace = True )\n",
        "\n",
        "DF"
      ]
    },
    {
      "cell_type": "markdown",
      "id": "41c4ec24",
      "metadata": {
        "id": "41c4ec24"
      },
      "source": [
        "## EXPLORATORY DATA ANALYSIS"
      ]
    },
    {
      "cell_type": "markdown",
      "id": "0172aee3",
      "metadata": {
        "id": "0172aee3"
      },
      "source": [
        "### EXTRACTING COLUMNS"
      ]
    },
    {
      "cell_type": "markdown",
      "id": "e65121b2",
      "metadata": {
        "id": "e65121b2"
      },
      "source": [
        "    From Screen-Resolution Column :\n",
        "    \n",
        "        1. HD, 4K and HD+\n",
        "\n",
        "        2. IPS Panel\n",
        "        \n",
        "               * IPS stands for \"In-Plane Switching,\" and it refers to a type of technology used in the displays of devices\n",
        "                 like laptops, monitors, and smartphones.\n",
        "                \n",
        "               * An IPS panel in mobile phones improves viewing angles and color accuracy by arranging pixels to reduce\n",
        "                 distortion when seen from different sides.\n",
        "                 \n",
        "               * While IPS (In-Plane Switching) panels are common and offer advantages like better color reproduction and\n",
        "                 wider viewing angles, other display technologies like OLED and AMOLED are also used in many smartphones.  \n",
        "            \n",
        "    From CPU Column :\n",
        "    \n",
        "        1. Intel , Samsung and AMD\n",
        "        \n",
        "    From Memory\n",
        "    \n",
        "        1. SSD , HDD, Hybrid , Flash Storage\n",
        "        \n",
        "    From GPU\n",
        "    \n",
        "        1. Intel , AMD , Nvidia.\n",
        "        \n",
        "    From Pixels and Inches\n",
        "    \n",
        "        1. We can calculate Pixels Per Inch\n",
        "\n",
        "\n",
        "![image-2.png](attachment:image-2.png)"
      ]
    },
    {
      "cell_type": "code",
      "execution_count": null,
      "id": "f5e3ecc6",
      "metadata": {
        "ExecuteTime": {
          "end_time": "2023-08-15T15:16:52.515294Z",
          "start_time": "2023-08-15T15:16:52.499647Z"
        },
        "id": "f5e3ecc6"
      },
      "outputs": [],
      "source": [
        "DF [ 'TouchScreen' ] = DF.ScreenResolution.apply ( lambda x : 1 if 'Touchscreen' in x else 0 )\n",
        "\n",
        "DF [ 'HD_4K' ] = DF.ScreenResolution.apply ( lambda x : 1 if '4K' in x or 'HD' in x or 'HD+' in x else 0 )\n",
        "\n",
        "DF [ 'CPU_Types' ] = DF.Cpu.apply ( lambda x : 'Samsung' if 'Samsung' in x else ( 'Intel' if 'Intel' in x else ( 'AMD' if 'AMD' in x else 'Intel' ) ) )\n",
        "\n",
        "DF [ 'Memory_Types' ] = DF.Memory.apply ( lambda x : 'Flash Storage' if 'Flash Storage' in x else ( 'HDD' if 'HDD' in x else ( 'SSD' ) ) )\n",
        "\n",
        "DF [ 'GPU_Types' ] = DF.Gpu.apply ( lambda x : 'AMD' if 'AMD' in x else ( 'Nvidia' if 'Nvidia' in x else ( 'Intel' ) ) )\n",
        "\n",
        "DF [ 'CPU_Frequency' ] = DF.Cpu.str.extract (  r'(\\d+GHz)' , expand = True )[0].str.replace ( 'GHz' , '' ).astype ( 'int64' )"
      ]
    },
    {
      "cell_type": "code",
      "execution_count": null,
      "id": "9724788e",
      "metadata": {
        "ExecuteTime": {
          "end_time": "2023-08-15T15:16:52.530938Z",
          "start_time": "2023-08-15T15:16:52.515294Z"
        },
        "id": "9724788e"
      },
      "outputs": [],
      "source": [
        "DF_Original = DF\n",
        "\n",
        "DF = DF_Original.iloc [ : , [ 0 , 1 , 2 , 5 , 8 , 9 , 10 , 11 , 12 , 13 , 14] ]\n",
        "\n",
        "Pixels = DF_Original.ScreenResolution.str.extract ( r'(\\d+x\\d+)', expand = True  )[0].str.replace ( 'x' , ' ' ).tolist()\n",
        "\n",
        "Pixels = list( map( lambda x : [ int ( x [ 0 ] ), int( x [ 1 ] ) ], [ i.split ( ) for i in Pixels ] ) )\n",
        "\n",
        "DF [ 'Length' ] = [ x [ 0 ] for x in Pixels ]\n",
        "\n",
        "DF [ 'Width' ] = [ x [ 1 ] for x in Pixels ]\n",
        "\n",
        "DF [ 'PPI' ] = np.sqrt ( DF.Length ** 2 + DF.Width ** 2 ) / DF.Inches"
      ]
    },
    {
      "cell_type": "markdown",
      "id": "3a7f9881",
      "metadata": {
        "id": "3a7f9881"
      },
      "source": [
        "### DATA VISUALIZATION"
      ]
    },
    {
      "cell_type": "markdown",
      "id": "f4884156",
      "metadata": {
        "id": "f4884156"
      },
      "source": [
        "#### BASIC LINE PLOTS"
      ]
    },
    {
      "cell_type": "code",
      "execution_count": null,
      "id": "1579161a",
      "metadata": {
        "ExecuteTime": {
          "end_time": "2023-08-15T15:16:54.764428Z",
          "start_time": "2023-08-15T15:16:52.530938Z"
        },
        "id": "1579161a"
      },
      "outputs": [],
      "source": [
        "sns.set ( style = \"whitegrid\" )\n",
        "\n",
        "for i in DF.drop ( columns = [ 'Price' , 'Weight' , 'CPU_Types' , 'Memory_Types' ]  ) :\n",
        "\n",
        "    plt.figure ( figsize = ( 20 , 10 ) )\n",
        "\n",
        "    sns.lineplot ( x = DF [ i ].sort_values ( ) , y = DF.Price , color = '#ADAABF' , markers = '*'  )\n",
        "\n",
        "    plt.show()"
      ]
    },
    {
      "cell_type": "markdown",
      "id": "3670c485",
      "metadata": {
        "id": "3670c485"
      },
      "source": [
        "INFERENCE\n",
        "\n",
        "    * The top most priced or selling laptops are :  \n",
        "    \n",
        "        1. Razer\n",
        "        \n",
        "            Type : Gaming Laptop\n",
        "            \n",
        "            Size : 17.3 Inches\n",
        "            \n",
        "            RAM : 32 GB\n",
        "            \n",
        "            Weight : 3.49 kg\n",
        "            \n",
        "            Screen Resolution : High Definition and 4K Resolution Ultra\n",
        "            \n",
        "            CPU : Intel Core i7, 2.9 GHz\n",
        "            \n",
        "            Memory : 512 GB SSD\n",
        "            \n",
        "            GPU : Nvidia GeForce GTX 1080\n",
        "            \n",
        "![image.png](attachment:image.png)        \n",
        "        \n",
        "        2. Lenovo\n",
        "        \n",
        "            Type : Notebook\n",
        "            \n",
        "            Size : 15.6 Inches\n",
        "            \n",
        "            RAM : 32 GB,\n",
        "            \n",
        "            Weight : 2.5 kg\n",
        "            \n",
        "            Screen Resolution : High Definition and 4K Resolution Ultra\n",
        "            \n",
        "            CPU : Intel Xeon E3-1535M v6 3.1GHz\n",
        "            \n",
        "            Memory : 1 TB SSD\n",
        "            \n",
        "            GPU : Nvidia Quadro M2200M\n",
        "            \n",
        "![image-2.png](attachment:image-2.png)\n",
        "        \n",
        "        3. HP\n",
        "        \n",
        "            Type : Workstation\n",
        "            \n",
        "            Size : 17.3 Inches\n",
        "            \n",
        "            Weight : 3 kg\n",
        "            \n",
        "            RAM : 16 GB\n",
        "            \n",
        "            Memory : 256 GB SSD\n",
        "            \n",
        "            Screen Resolution : IPS Panel, High Definition and 4K Resolution\n",
        "        \n",
        "            GPU : Nvidia Quadro M2200M\n",
        "            \n",
        "            CPU : Intel Xeon E3-1535M v5 2.9GHz\n",
        "            \n",
        "![image-3.png](attachment:image-3.png)"
      ]
    },
    {
      "cell_type": "markdown",
      "id": "66151e1c",
      "metadata": {
        "id": "66151e1c"
      },
      "source": [
        "    * The analytical reasons are valid for the year 2020  \n",
        "    \n",
        "    Some of the contributing reasons for the high costs are :\n",
        "    \n",
        "    1. High-Performance Components\n",
        "    \n",
        "        * All three laptops are equipped with powerful and high-performance components.\n",
        "\n",
        "        * They feature advanced processors, substantial amounts of RAM (32 GB), and top-tier graphics cards.\n",
        "\n",
        "        * These high-performance specifications contribute significantly to the overall cost of the laptops.\n",
        "        \n",
        "    2. Large Screen Size and Resolution\n",
        "    \n",
        "        * The laptops have larger screen sizesand offer high-resolution displays, including 4K and IPS panel technology.\n",
        "        \n",
        "        * Larger and higher-resolution screens often result in higher production costs\n",
        "        \n",
        "    3. Specialized Usage\n",
        "            \n",
        "        * The Razer laptop is a gaming laptop, the Lenovo laptop is a workstation with Nvidia Quadro graphics.\n",
        "        \n",
        "        * Specialized laptops often come with premium components tailored to those specific tasks, leading to higher costs.\n",
        "        \n",
        "    4. Ample Storage\n",
        "    \n",
        "        * All three laptops come with substantial storage capacities (512 GB SSD, 1 TB SSD, 256 GB SSD).\n",
        "        \n",
        "        * Larger and faster storage drives can increase the cost of the laptops.\n",
        "        \n",
        "    5. Premium Design and Build Quality\n",
        "    \n",
        "        * Costly laptops often prioritize premium materials, build quality, and design aesthetics.\n",
        "        \n",
        "        * These factors contribute to a higher production cost and, consequently, a higher retail price.\n",
        "        \n",
        "    6. Brand Reputation\n",
        "    \n",
        "        * Brands like Razer, Lenovo, and HP are well-established and have strong reputations in the laptop industry.\n",
        "        \n",
        "        * Premium brands can command higher prices due to customer trust, perceived quality, and brand recognition.\n",
        "\n",
        "    7. Advanced Features\n",
        "    \n",
        "        * The laptops offer advanced features such as Nvidia graphics, Intel Xeon processors, high-definition and 4K\n",
        "          resolutions, and other technology advancements.\n",
        "        \n",
        "\n",
        "    8. Limited Market Segment\n",
        "    \n",
        "        * These laptops cater to specific markets such as gaming, professional work and demanding tasks.\n",
        "          \n",
        "        * The limited target audience allows manufacturers to price these laptops at a premium."
      ]
    },
    {
      "cell_type": "markdown",
      "id": "060af5ab",
      "metadata": {
        "id": "060af5ab"
      },
      "source": [
        "#### OPERATING SYSTEM AND  SIZE DISTRIBUTION"
      ]
    },
    {
      "cell_type": "code",
      "execution_count": null,
      "id": "aa95fd36",
      "metadata": {
        "ExecuteTime": {
          "end_time": "2023-08-15T15:16:54.967835Z",
          "start_time": "2023-08-15T15:16:54.764428Z"
        },
        "id": "aa95fd36"
      },
      "outputs": [],
      "source": [
        "sns.set ( style = \"whitegrid\" )\n",
        "\n",
        "plt.figure ( figsize = ( 20 , 10 ) )\n",
        "\n",
        "sns.barplot ( y = DF.Inches , x = DF[ 'OpSys' ] , palette = 'twilight' )"
      ]
    },
    {
      "cell_type": "markdown",
      "id": "fc713fff",
      "metadata": {
        "id": "fc713fff"
      },
      "source": [
        "    * The largest laptops have the following operating system  \n",
        "    \n",
        "        1. Windows 10\n",
        "        \n",
        "        2. Linux\n",
        "        \n",
        "        3. Mac OS\n",
        "        \n",
        "           These are some of the reasons behind the operating system and the size\n",
        "        \n",
        "            - The correlation between laptop size and operating systems can be attributed to several factors that align\n",
        "              with user preferences, usage scenarios, and market trends.\n",
        "              \n",
        "            - Larger laptops are often associated with higher performance capabilities, making them suitable for resource-\n",
        "              intensive tasks like software development, graphic design, and video editing.\n",
        "              \n",
        "            - Operating systems like Windows 10, Linux, and Mac OS are preferred for their robust multitasking capabilities,\n",
        "              allowing users to run multiple applications simultaneously.  \n",
        "              \n",
        "            - Linux is highly customizable, making it popular among tech-savvy users who want to tailor their operating\n",
        "              system to specific needs. Larger laptops offer more space for advanced configurations and customization.  \n",
        "        \n",
        "        \n",
        "    * The Smallest Laptops have the following operating system\n",
        "    \n",
        "        1. Android\n",
        "        \n",
        "        2. MAC OS X\n",
        "        \n",
        "        3. Chrome OS\n",
        "        \n",
        "          - Smaller laptops, often ultrabooks or compact devices, prioritize portability and convenience.\n",
        "          \n",
        "          - These laptops are designed for users who need computing on the go, such as students, travelers, and individuals\n",
        "            attending meetings.\n",
        "            \n",
        "          - Android is used on convertible devices and tablets, enhancing touch-based interactions and mobile app\n",
        "            integration.\n",
        "          \n",
        "          - Users who value a seamless transition between their mobile devices and laptops may choose Android.\n",
        "          \n",
        "          - Chrome OS is optimized for cloud-based computing, where users rely on web applications and online storage.\n",
        "          \n",
        "          - Smaller laptops, especially those running Chrome OS, often cater to budget-conscious consumers who prioritize\n",
        "            affordability and basic computing tasks."
      ]
    },
    {
      "cell_type": "markdown",
      "id": "d1860d25",
      "metadata": {
        "id": "d1860d25"
      },
      "source": [
        "#### PRICE DISTRIBUTION"
      ]
    },
    {
      "cell_type": "code",
      "execution_count": null,
      "id": "009c5b1e",
      "metadata": {
        "ExecuteTime": {
          "end_time": "2023-08-15T15:16:55.266193Z",
          "start_time": "2023-08-15T15:16:54.967835Z"
        },
        "id": "009c5b1e"
      },
      "outputs": [],
      "source": [
        "plt.figure ( figsize = ( 20 , 10 ) )\n",
        "\n",
        "sns.histplot ( data = DF_Original , x = DF_Original.Price , kde = True , hue = 'TouchScreen' , palette = [ '#AA4465', '#2C1320' ] , bins = 60 );"
      ]
    },
    {
      "cell_type": "markdown",
      "id": "b54640ff",
      "metadata": {
        "id": "b54640ff"
      },
      "source": [
        "    * The peak of the distribution around 50,000 suggests that a significant proportion of laptops have prices clustered\n",
        "      around this value.\n",
        "      \n",
        "    * The gradual tapering of the distribution towards higher prices implies that as laptop prices increase beyond this\n",
        "      peak, the frequency of laptops with those higher prices decreases.\n",
        "      \n",
        "    * The majority of laptops fall within an affordable range (around 50,000), while fewer laptops belong to premium or\n",
        "      higher-priced segments.\n",
        "      \n",
        "    * The touchscreen feature is priced a little higher than the non-touch screen laptops\n",
        "    \n",
        "    * But as the price increases and the number of laptops in the data sets decrease the similar trend is seen in the  \n",
        "      availability of touch screen feature\n",
        "      \n",
        "    * This distribution pattern could be due to manufacturers targeting a wider consumer base for touch screen laptops\n",
        "      by making them more affordable.\n",
        "      "
      ]
    },
    {
      "cell_type": "markdown",
      "id": "93e74141",
      "metadata": {
        "id": "93e74141"
      },
      "source": [
        "#### RAM DISTRIBUTION"
      ]
    },
    {
      "cell_type": "code",
      "execution_count": null,
      "id": "c6f9bcd8",
      "metadata": {
        "ExecuteTime": {
          "end_time": "2023-08-15T15:16:55.407360Z",
          "start_time": "2023-08-15T15:16:55.266193Z"
        },
        "id": "c6f9bcd8"
      },
      "outputs": [],
      "source": [
        "plt.figure ( figsize = ( 20 , 10 ) )\n",
        "\n",
        "sns.histplot ( data = DF_Original , x = DF_Original.Ram , kde = True , hue =  'HD_4K' , palette = [ '#0A014F', '#CD9FCC' ] );"
      ]
    },
    {
      "cell_type": "markdown",
      "id": "d9e81371",
      "metadata": {
        "id": "d9e81371"
      },
      "source": [
        "    * The RAM of laptops that have HD or HD+ or 4K are :\n",
        "    \n",
        "        1. 8 GB\n",
        "        \n",
        "        2. 16 GB\n",
        "        \n",
        "            - laptops with higher display quality (HD/HD+/4K) tend to have more substantial RAM options (8 GB or 16 GB).\n",
        "            \n",
        "            - This could indicate that laptops with better display qualities are often designed for tasks that require\n",
        "              higher performance, which in turn might necessitate more RAM.\n",
        "        \n",
        "    * The RAM of Laptops that do not have HD or HD+ or 4K are :\n",
        "    \n",
        "        1. 2 GB\n",
        "        \n",
        "        2. 12 GB\n",
        "        \n",
        "        3. 6 GB\n",
        "        \n",
        "        4. 32 GB\n",
        "        \n",
        "        5. 24 GB\n",
        "        \n",
        "        6. 64 GB\n",
        "        \n",
        "            - The correlation between higher display quality and larger RAM sizes suggests that laptops with better\n",
        "              displays are often optimized for better performance and enhanced user experiences.\n",
        "              \n",
        "            - Laptops with lower display resolutions (no HD or 4K) may allocate a larger portion of their budget and\n",
        "              resources to other components, such as RAM and processors.\n",
        "              \n",
        "            - This allocation can lead to improved overall system performance, enabling smoother multitasking and better\n",
        "              responsiveness."
      ]
    },
    {
      "cell_type": "markdown",
      "id": "c2407ced",
      "metadata": {
        "id": "c2407ced"
      },
      "source": [
        "#### TOUCHSCREEN"
      ]
    },
    {
      "cell_type": "code",
      "execution_count": null,
      "id": "3491bb75",
      "metadata": {
        "ExecuteTime": {
          "end_time": "2023-08-15T15:16:55.501051Z",
          "start_time": "2023-08-15T15:16:55.407360Z"
        },
        "id": "3491bb75"
      },
      "outputs": [],
      "source": [
        "Data = DF.groupby ( by = ['TypeName']  ).sum ( ).reset_index ( ).loc [ : , ['TouchScreen', 'TypeName'] ]\n",
        "\n",
        "Colors = [ '#8B85C1' , '#D3FCD5' , '#A8DCD9' , '#A2A3BB' , '#E2A3C7'  , '#815E5B' ,  '#7A6F9B' ]\n",
        "\n",
        "plt.figure ( figsize = ( 20 , 10 ) )\n",
        "\n",
        "plt.pie ( x = Data.TouchScreen , autopct = '%1.1f%%', colors = Colors , explode = [ 0 , 0 , 0 , 0.1 , 0.1 , 0.2 ] , labels = list(Data.TypeName.unique ( ))) ;\n",
        "\n",
        "plt.title ( \"The Laptops Types that provide Touch Screen Feature\" );"
      ]
    },
    {
      "cell_type": "markdown",
      "id": "04012995",
      "metadata": {
        "id": "04012995"
      },
      "source": [
        "#### SIZE DISTRIBUTION WRT CPU TYPES"
      ]
    },
    {
      "cell_type": "code",
      "execution_count": null,
      "id": "e61aab2d",
      "metadata": {
        "ExecuteTime": {
          "end_time": "2023-08-15T15:16:55.939178Z",
          "start_time": "2023-08-15T15:16:55.501051Z"
        },
        "id": "e61aab2d"
      },
      "outputs": [],
      "source": [
        "plt.figure ( figsize = ( 20 , 10 ) )\n",
        "\n",
        "sns.barplot ( x = 'Company' , y = 'Inches' , hue = 'CPU_Types' , data = DF_Original , palette = 'GnBu' )\n",
        "\n",
        "plt.legend ( loc = 'upper right' , fontsize = 'large' )\n",
        "\n",
        "plt.show ( )"
      ]
    },
    {
      "cell_type": "markdown",
      "id": "a1270641",
      "metadata": {
        "id": "a1270641"
      },
      "source": [
        "    * Intel Processor :\n",
        "    \n",
        "        - Laptops with Intel processors tend to be associated with diagonal screen sizes surpassing 12 inches.\n",
        "        \n",
        "        - MSI leads in producing the largest laptops featuring Intel processors, which is particularly noticeable in\n",
        "          gaming-oriented laptops.\n",
        "          \n",
        "        - The majority of laptop manufacturers across various brands prefer Intel processors, emphasizing their widespread\n",
        "          adoption.  \n",
        "        \n",
        "    * AMD Processor :\n",
        "    \n",
        "        - HP, Acer, and Lenovo stand out for incorporating AMD processors in laptops, often coinciding with larger screen\n",
        "          sizes.\n",
        "        \n",
        "        - These manufacturers showcase a dual approach by offering laptops with both Intel and AMD processors.\n",
        "          \n",
        "        - Notably, laptops powered by AMD processors are often larger in size compared to their Intel-powered counterparts.\n",
        "        \n",
        "        - Larger laptops with more internal space may accommodate processors with higher performance and greater power\n",
        "          requirements, such as those from AMD.\n",
        "          \n",
        "    * Samsung Processor :\n",
        "    \n",
        "        - Samsung's laptop lineup encompasses models powered by both Samsung-designed processors and Intel processors.\n",
        "    "
      ]
    },
    {
      "cell_type": "markdown",
      "id": "d239402f",
      "metadata": {
        "id": "d239402f"
      },
      "source": [
        "### OUTLIERS"
      ]
    },
    {
      "cell_type": "markdown",
      "id": "90d27b89",
      "metadata": {
        "id": "90d27b89"
      },
      "source": [
        "#### DETECTING OUTLIERS"
      ]
    },
    {
      "cell_type": "code",
      "execution_count": null,
      "id": "cb8c0406",
      "metadata": {
        "ExecuteTime": {
          "end_time": "2023-08-15T15:16:56.339602Z",
          "start_time": "2023-08-15T15:16:55.939178Z"
        },
        "id": "cb8c0406"
      },
      "outputs": [],
      "source": [
        "DF_Original.select_dtypes ( np.number ).plot ( kind = 'box' , subplots = True , layout = ( 3 , 3 ) , figsize = ( 20 , 15 ) , sharex = True , sharey = True );"
      ]
    },
    {
      "cell_type": "markdown",
      "id": "8ad77f6d",
      "metadata": {
        "id": "8ad77f6d"
      },
      "source": [
        "    Reasons Behind the outliers\n",
        "\n",
        "        1. Luxury Laptops Outliers:\n",
        "\n",
        "           - Outliers occur due to luxury laptops made with high-end materials and advanced features.\n",
        "\n",
        "           - These laptops target a unique market that values extraordinary attributes beyond the usual.\n",
        "\n",
        "           - Premium materials and cutting-edge tech raise prices, making them stand out as outliers.\n",
        "\n",
        "\n",
        "        2. Gaming and High-Performance Outliers:\n",
        "\n",
        "           - Outliers also arise from gaming laptops and high-performance devices.\n",
        "\n",
        "           - These laptops excel in gaming and resource-intensive tasks like video editing.\n",
        "\n",
        "           - Robust processors, graphics cards, and cooling solutions increase costs and prices.\n",
        "\n",
        "           - Gamers and professionals willing to pay more for top performance drive these outliers.\n"
      ]
    },
    {
      "cell_type": "markdown",
      "id": "96f6840a",
      "metadata": {
        "id": "96f6840a"
      },
      "source": [
        "#### TREATING OUTLIERS"
      ]
    },
    {
      "cell_type": "code",
      "execution_count": null,
      "id": "456c85a8",
      "metadata": {
        "ExecuteTime": {
          "end_time": "2023-08-15T15:16:56.355722Z",
          "start_time": "2023-08-15T15:16:56.340669Z"
        },
        "id": "456c85a8"
      },
      "outputs": [],
      "source": [
        "Mean = DF.Price.mean ( )\n",
        "\n",
        "Std_Dev = DF.Price.std ( )\n",
        "\n",
        "Threshold = 3\n",
        "\n",
        "Lower_Limit = Mean - Threshold * Std_Dev\n",
        "\n",
        "Upper_Limit = Mean + Threshold * Std_Dev\n",
        "\n",
        "DF [ 'Price' ] = DF [ 'Price' ].apply ( lambda x : Lower_Limit if x < Lower_Limit else ( Upper_Limit if x > Upper_Limit else x ) )"
      ]
    },
    {
      "cell_type": "code",
      "execution_count": null,
      "id": "6ce47191",
      "metadata": {
        "ExecuteTime": {
          "end_time": "2023-08-15T15:16:56.371360Z",
          "start_time": "2023-08-15T15:16:56.355722Z"
        },
        "id": "6ce47191"
      },
      "outputs": [],
      "source": [
        "DF['Price']  = pd.DataFrame ( np.log1p ( DF [ [ 'Price' ] ] ) )\n",
        "\n",
        "DF.Ram = DF.Ram.str.replace ( 'GB' , '' ).astype ( 'int64' )\n",
        "\n",
        "DF.Weight = DF.Weight.str.replace ( 'kg' , '' ).astype ( 'float64' )"
      ]
    },
    {
      "cell_type": "code",
      "execution_count": null,
      "id": "514aa02e",
      "metadata": {
        "ExecuteTime": {
          "end_time": "2023-08-15T15:16:56.387085Z",
          "start_time": "2023-08-15T15:16:56.371360Z"
        },
        "id": "514aa02e"
      },
      "outputs": [],
      "source": [
        "DF['Weight']  = pd.DataFrame ( np.log1p ( DF [ [ 'Weight' ] ] ) )\n",
        "\n",
        "DF['PPI']  = pd.DataFrame ( np.log1p  ( DF [ [ 'PPI' ] ] ) )"
      ]
    },
    {
      "cell_type": "code",
      "execution_count": null,
      "id": "6ad07854",
      "metadata": {
        "ExecuteTime": {
          "end_time": "2023-08-15T15:16:56.543807Z",
          "start_time": "2023-08-15T15:16:56.387085Z"
        },
        "id": "6ad07854"
      },
      "outputs": [],
      "source": [
        "plt.figure ( figsize = ( 15 , 5 ) )\n",
        "\n",
        "DF.Price.hist ( bins = 100 , color = '#330036' );\n",
        "\n",
        "plt.xlabel ( \"Price of Laptops\" )\n",
        "\n",
        "plt.title ( \"Histogram of Laptop Prices\" );"
      ]
    },
    {
      "cell_type": "markdown",
      "id": "8040793e",
      "metadata": {
        "id": "8040793e"
      },
      "source": [
        "## DATA CLEANING"
      ]
    },
    {
      "cell_type": "markdown",
      "id": "133691d3",
      "metadata": {
        "id": "133691d3"
      },
      "source": [
        "### NULL VALUES"
      ]
    },
    {
      "cell_type": "code",
      "execution_count": null,
      "id": "3e3b44f0",
      "metadata": {
        "ExecuteTime": {
          "end_time": "2023-08-15T15:16:56.559420Z",
          "start_time": "2023-08-15T15:16:56.543807Z"
        },
        "id": "3e3b44f0"
      },
      "outputs": [],
      "source": [
        "print ( 'The null values in the Data Set are as follows : \\n' )\n",
        "\n",
        "DF.isnull ( ).sum ( ) [ DF.isnull ( ).sum ( ) > 0 ]"
      ]
    },
    {
      "cell_type": "markdown",
      "id": "5c341d49",
      "metadata": {
        "id": "5c341d49"
      },
      "source": [
        "### CATEGORICAL COLUMNS"
      ]
    },
    {
      "cell_type": "code",
      "execution_count": null,
      "id": "8e642231",
      "metadata": {
        "ExecuteTime": {
          "end_time": "2023-08-15T15:16:56.574954Z",
          "start_time": "2023-08-15T15:16:56.559420Z"
        },
        "id": "8e642231"
      },
      "outputs": [],
      "source": [
        "DF.select_dtypes ( 'object' )"
      ]
    },
    {
      "cell_type": "code",
      "execution_count": null,
      "id": "b60fdae8",
      "metadata": {
        "ExecuteTime": {
          "end_time": "2023-08-15T15:16:56.590681Z",
          "start_time": "2023-08-15T15:16:56.574954Z"
        },
        "id": "b60fdae8"
      },
      "outputs": [],
      "source": [
        "Categorical_Columns = DF.select_dtypes ( 'object' ).columns.to_list ( )\n",
        "\n",
        "Categorical_Columns"
      ]
    },
    {
      "cell_type": "code",
      "execution_count": null,
      "id": "05ac56dd",
      "metadata": {
        "ExecuteTime": {
          "end_time": "2023-08-15T15:16:56.606300Z",
          "start_time": "2023-08-15T15:16:56.590681Z"
        },
        "scrolled": true,
        "id": "05ac56dd"
      },
      "outputs": [],
      "source": [
        "for i in DF.loc [ : , Categorical_Columns ] :\n",
        "\n",
        "    print ( \"\\n--------------------------------------------------------------------------\\n\" , \"Column => \" , i )\n",
        "\n",
        "    display ( DF [ i ].value_counts ( ) )"
      ]
    },
    {
      "cell_type": "raw",
      "id": "cdfe71ff",
      "metadata": {
        "id": "cdfe71ff"
      },
      "source": [
        "DF.Ram = DF.Ram.str.replace ( 'GB' , '' ).astype ( 'int64' )\n",
        "\n",
        "DF.Weight = DF.Weight.str.replace ( 'kg' , '' ).astype ( 'float64' )"
      ]
    },
    {
      "cell_type": "markdown",
      "id": "8c4ac0a7",
      "metadata": {
        "id": "8c4ac0a7"
      },
      "source": [
        "### CORRELATION"
      ]
    },
    {
      "cell_type": "code",
      "execution_count": null,
      "id": "e9456c1e",
      "metadata": {
        "ExecuteTime": {
          "end_time": "2023-08-15T15:16:56.887998Z",
          "start_time": "2023-08-15T15:16:56.606300Z"
        },
        "id": "e9456c1e"
      },
      "outputs": [],
      "source": [
        "plt.figure ( figsize = ( 20 , 20 ) )\n",
        "\n",
        "sns.heatmap ( data = DF.corr ( ) , cmap = 'twilight' , annot = True , fmt = '0.4f' );"
      ]
    },
    {
      "cell_type": "code",
      "execution_count": null,
      "id": "ddee6a70",
      "metadata": {
        "ExecuteTime": {
          "end_time": "2023-08-15T15:16:56.903627Z",
          "start_time": "2023-08-15T15:16:56.887998Z"
        },
        "id": "ddee6a70"
      },
      "outputs": [],
      "source": [
        "DF.corr ( ) [ (DF.corr ( ) > 0.2) | ( DF.corr ( ) < -0.2 )].fillna ( '-' )"
      ]
    },
    {
      "cell_type": "markdown",
      "id": "52afbfd0",
      "metadata": {
        "id": "52afbfd0"
      },
      "source": [
        "    \n",
        "    * Some noticeable correlation exists between\n",
        "    \n",
        "        - TouchScreen Feature and the Type of Laptop ( -0.417188 )\n",
        "        \n",
        "              Laptops with a TouchScreen feature might be more commonly associated with consumer-oriented laptop types\n",
        "              (e.g., Ultrabooks, Convertibles) that prioritize interactivity and user experience, while non-TouchScreen\n",
        "              laptops might lean towards more business-oriented types (e.g., Workstations, Business laptops).\n",
        "                   \n",
        "        - TouchScreen and the Size of the Laptop ( -0.361735 )\n",
        "        \n",
        "              A negative correlation between TouchScreen and Laptop Size suggests that smaller laptops (e.g., Ultrabooks)\n",
        "              are more likely to have TouchScreen capabilities. This could be due to the desire for portability and\n",
        "              convenience in smaller form factors.\n",
        "        \n",
        "        - Weight and the Size of the Laptop ( 0.827631 )\n",
        "        \n",
        "              The strong positive correlation between Weight and Laptop Size indicates that larger laptops tend to be\n",
        "              heavier.This is likely due to the additional components and materials needed for larger screens and more\n",
        "              powerful hardware.\n",
        "\n",
        "        - Weight and the Ram of the Laptop ( 0.383874 )\n",
        "        \n",
        "              The correlation between Weight and RAM suggests that laptops with more RAM (which can lead to better\n",
        "              performance) might also have slightly higher weight due to the increased hardware components required to\n",
        "              accommodate the additional memory.\n",
        "        \n",
        "        - High Definition , High Definition + and 4 K Resolution and the Ram of the Laptop ( 0.35487 )\n",
        "        \n",
        "              Laptops with higher resolution displays (HD, HD+, 4K) might require more RAM to smoothly handle the increased\n",
        "              visual data processing and multitasking associated with higher resolution content.\n",
        "        \n",
        "        - Type of memory and Price of the Laptop ( 0.385761 )\n",
        "        \n",
        "              The type of memory used in a laptop (e.g., SSD , HDD ) might impact its overall performance and capabilities,\n",
        "              which in turn can influence the laptop's price. Higher-priced laptops might use newer and faster memory\n",
        "              technologies.\n",
        "        \n",
        "        - Price and Ram of the Laptop ( 0.701592 )\n",
        "        \n",
        "              The positive correlation between Price and RAM suggests that laptops with more RAM tend to be priced higher.\n",
        "              This is likely because larger amounts of RAM can enhance performance and multitasking capabilities, making\n",
        "              laptops more suitable for demanding tasks and applications."
      ]
    },
    {
      "cell_type": "markdown",
      "id": "2dbda127",
      "metadata": {
        "id": "2dbda127"
      },
      "source": [
        "## DATA PREPROCESSING"
      ]
    },
    {
      "cell_type": "code",
      "execution_count": null,
      "id": "b95434d9",
      "metadata": {
        "ExecuteTime": {
          "end_time": "2023-08-15T15:16:56.919260Z",
          "start_time": "2023-08-15T15:16:56.903627Z"
        },
        "id": "b95434d9"
      },
      "outputs": [],
      "source": [
        "Train , Test = train_test_split ( DF , random_state = 42 )\n",
        "\n",
        "Train_X = Train.drop ( columns = [ 'Price' , 'Inches' , 'Length' , 'Width' , 'HD_4K' ] )\n",
        "\n",
        "Train_Y = Train.Price\n",
        "\n",
        "Test_X = Test.drop (  columns = [ 'Price' , 'Inches' , 'Length' , 'Width' , 'HD_4K' ] )\n",
        "\n",
        "Test_Y = Test.Price\n",
        "\n",
        "print ( \"The sizes or dimensions of the data sets are : \\n\" )\n",
        "\n",
        "print ( \"Train : {}\\n\\nTest : {}\\n\".format ( Train.shape , Test.shape ) )\n",
        "\n",
        "print ( \"Train X : {}\\n\\nTrain Y : {}\\n\\nTest X : {}\\n\\nTest Y : {}\\n\".format ( Train_X.shape , Train_Y.shape , Test_X.shape , Test_Y.shape ) )"
      ]
    },
    {
      "cell_type": "code",
      "execution_count": null,
      "id": "e2d47438",
      "metadata": {
        "ExecuteTime": {
          "end_time": "2023-08-15T15:16:56.934879Z",
          "start_time": "2023-08-15T15:16:56.919260Z"
        },
        "id": "e2d47438"
      },
      "outputs": [],
      "source": [
        "Columns = list(Train_X.select_dtypes ( 'object' ).columns)"
      ]
    },
    {
      "cell_type": "markdown",
      "id": "9e1d2420",
      "metadata": {
        "id": "9e1d2420"
      },
      "source": [
        "## PREDICTIVE MODELING"
      ]
    },
    {
      "cell_type": "markdown",
      "id": "26e30f6e",
      "metadata": {
        "id": "26e30f6e"
      },
      "source": [
        "### LINEAR REGRESSION"
      ]
    },
    {
      "cell_type": "code",
      "execution_count": null,
      "id": "8196804b",
      "metadata": {
        "ExecuteTime": {
          "end_time": "2023-08-15T15:16:56.966289Z",
          "start_time": "2023-08-15T15:16:56.934879Z"
        },
        "scrolled": true,
        "id": "8196804b"
      },
      "outputs": [],
      "source": [
        "Columns = list(Train_X.select_dtypes ( 'object' ).columns)\n",
        "\n",
        "Step1 = ColumnTransformer ( transformers = [ ('col_tnf' , OneHotEncoder ( sparse = False , drop = 'first' ) , Columns ) ] , remainder = 'passthrough')\n",
        "\n",
        "Step2 = LinearRegression ( )\n",
        "\n",
        "Pipeline_LR = Pipeline ( [ ( 'step1' , Step1) , ( 'step2' , Step2 ) ] )\n",
        "\n",
        "Pipeline_LR.fit ( Train_X , Train_Y )"
      ]
    },
    {
      "cell_type": "markdown",
      "id": "c2095b92",
      "metadata": {
        "id": "c2095b92"
      },
      "source": [
        "#### PREDICTION & PERFORMANCE EVALUATION"
      ]
    },
    {
      "cell_type": "markdown",
      "id": "31fa691c",
      "metadata": {
        "id": "31fa691c"
      },
      "source": [
        "    The coefficient of determination (R-squared) quantifies the proportion of the variance in the dependent variable that\n",
        "    is explained by the independent variables in a regression model.\n",
        "    \n",
        "![image.png](attachment:image.png)\n",
        "\n",
        "    Adjusted R-squared (or Adjusted R2) is a statistical measure that adjusts the R-squared value by taking into account\n",
        "    the number of predictors (independent variables) in a regression model. It penalizes the inclusion of unnecessary\n",
        "    predictors that may not contribute significantly to explaining the variation in the dependent variable, providing a more\n",
        "    realistic assessment of the model's explanatory power while accounting for model complexity."
      ]
    },
    {
      "cell_type": "code",
      "execution_count": null,
      "id": "c51f6614",
      "metadata": {
        "ExecuteTime": {
          "end_time": "2023-08-15T15:16:56.981823Z",
          "start_time": "2023-08-15T15:16:56.966289Z"
        },
        "id": "c51f6614"
      },
      "outputs": [],
      "source": [
        "Y_LR = Pipeline_LR.predict ( Test_X )\n",
        "\n",
        "R2_LR = r2_score ( Test_Y , Y_LR ) * 100\n",
        "\n",
        "N = Train_X.shape[0]\n",
        "\n",
        "P = Train_X.shape[1]\n",
        "\n",
        "print ( \"The R2 value or Coefficient of determination is : \" , R2_LR )\n",
        "\n",
        "Adjusted_R2_LR = 1 - ( ( 1 - R2_LR ) * ( N - 1 ) / ( N - 1 - P ) )\n",
        "\n",
        "MSE_LR = mean_squared_error ( Test_Y , Y_LR )\n",
        "\n",
        "RMSE_LR = np.sqrt ( MSE_LR )\n",
        "\n",
        "MAPE_LR = mean_absolute_percentage_error ( Test_Y , Y_LR ) * 100\n",
        "\n",
        "MAE_LR = mean_absolute_error ( Test_Y , Y_LR )\n",
        "\n",
        "print ( \"\\nThe Adjusted R2 value is : \" , Adjusted_R2_LR )"
      ]
    },
    {
      "cell_type": "code",
      "execution_count": null,
      "id": "0e56136f",
      "metadata": {
        "ExecuteTime": {
          "end_time": "2023-08-15T15:16:56.997540Z",
          "start_time": "2023-08-15T15:16:56.981823Z"
        },
        "id": "0e56136f"
      },
      "outputs": [],
      "source": [
        "LR_PM = { 'Performance Metric' : [ 'R2' , 'Adjusted_R2' , 'MSE' , 'RMSE' , 'MAPE' , 'MAE' ] ,\n",
        "\n",
        "           'Values' : [ R2_LR , Adjusted_R2_LR , MSE_LR , RMSE_LR , MAPE_LR , MAE_LR ] }\n",
        "\n",
        "LR_Performance_Metrics = pd.DataFrame ( LR_PM )\n",
        "\n",
        "LR_Performance_Metrics"
      ]
    },
    {
      "cell_type": "markdown",
      "id": "71fcd4f7",
      "metadata": {
        "id": "71fcd4f7"
      },
      "source": [
        "#### CHECKING FOR ASSUMPTIONS"
      ]
    },
    {
      "cell_type": "markdown",
      "id": "0f336c11",
      "metadata": {
        "id": "0f336c11"
      },
      "source": [
        "##### NORMAL DISTRIBUTION"
      ]
    },
    {
      "cell_type": "code",
      "execution_count": null,
      "id": "ec5e99b6",
      "metadata": {
        "ExecuteTime": {
          "end_time": "2023-08-15T15:16:57.295029Z",
          "start_time": "2023-08-15T15:16:56.997540Z"
        },
        "id": "ec5e99b6"
      },
      "outputs": [],
      "source": [
        "plt.figure ( figsize = ( 20 , 10 ) )\n",
        "\n",
        "sns.histplot ( ( Y_LR - Test_Y ) , bins = 60 , color = '#261447' )\n",
        "\n",
        "Y_Train_LR = Pipeline_LR.predict ( Train_X )\n",
        "\n",
        "plt.figure ( figsize = ( 20 , 10 ) )\n",
        "\n",
        "sns.histplot ( ( Y_Train_LR - Train_Y ) , bins = 60 , color = '#261447' );"
      ]
    },
    {
      "cell_type": "markdown",
      "id": "6c6bfcb7",
      "metadata": {
        "id": "6c6bfcb7"
      },
      "source": [
        "    SKEWNESS & KURTOSIS"
      ]
    },
    {
      "cell_type": "code",
      "execution_count": null,
      "id": "894d730e",
      "metadata": {
        "ExecuteTime": {
          "end_time": "2023-08-15T15:16:57.310825Z",
          "start_time": "2023-08-15T15:16:57.296438Z"
        },
        "id": "894d730e"
      },
      "outputs": [],
      "source": [
        "# The skewness of a normal distribution is 0\n",
        "\n",
        "Error_Train = Train_Y - Y_Train_LR\n",
        "\n",
        "print ( \"The skewness value of Train is : \", np.round ( Error_Train.skew ( ) , 2 ) )\n",
        "\n",
        "# The kurtosis of a normal distribution is 3\n",
        "\n",
        "print ( \"\\nThe kurotis value of Train is : \", np.round ( Error_Train.kurt ( ) + 3 , 2 )  )"
      ]
    },
    {
      "cell_type": "markdown",
      "id": "f75799f2",
      "metadata": {
        "id": "f75799f2"
      },
      "source": [
        "    -- INFERENCE --\n",
        "    \n",
        "    SKEWNESS\n",
        "    \n",
        "    The skewness value of 0.174 indicates a very small positive skewness suggesting that there are a few\n",
        "    larger values that are pulling the tail to the right.\n",
        "    \n",
        "    However, the skewness value is quite close to zero, indicating that the departure from symmetry is minimal.\n",
        "    \n",
        "    \n",
        "    KURTOSIS\n",
        "    \n",
        "    The kurtosis value of 3.566 is greater than 3. This indicates that the distribution has relatively heavy\n",
        "    tails and is more peaked (leptokurtic) than a normal distribution.\n",
        "    \n",
        "    Higher kurtosis values suggest that there are more data points in the tails of the distribution compared to a normal\n",
        "    distribution."
      ]
    },
    {
      "cell_type": "code",
      "execution_count": null,
      "id": "a9f04513",
      "metadata": {
        "ExecuteTime": {
          "end_time": "2023-08-15T15:16:57.326458Z",
          "start_time": "2023-08-15T15:16:57.310825Z"
        },
        "id": "a9f04513"
      },
      "outputs": [],
      "source": [
        "# The skewness of a normal distribution is 0\n",
        "\n",
        "Error_Test = Test_Y - Y_LR\n",
        "\n",
        "print ( \"The skewness value of Test is : \", np.round ( Error_Test.skew ( ) , 2 ) )\n",
        "\n",
        "# The kurtosis of a normal distribution is 3\n",
        "\n",
        "print ( \"\\nThe kurotis value of Test is : \", np.round ( Error_Test.kurt ( ) + 3 , 2 )  )"
      ]
    },
    {
      "cell_type": "markdown",
      "id": "44729057",
      "metadata": {
        "id": "44729057"
      },
      "source": [
        "    -- INFERENCE --\n",
        "    \n",
        "    SKEWNESS\n",
        "  \n",
        "    The skewness value of -0.6635 indicates that the distribution of your test data is slightly left-skewed.\n",
        "    \n",
        "    KURTOSIS\n",
        "    \n",
        "    The kurtosis value of 5.9640 indicates that the distribution of your test data is leptokurtic, which means it has\n",
        "    heavier tails and is more peaked than a normal distribution."
      ]
    },
    {
      "cell_type": "markdown",
      "id": "cf8322a8",
      "metadata": {
        "id": "cf8322a8"
      },
      "source": [
        "##### HOMOSCEDASTICITY  "
      ]
    },
    {
      "cell_type": "code",
      "execution_count": null,
      "id": "b2e6f56f",
      "metadata": {
        "ExecuteTime": {
          "end_time": "2023-08-15T15:16:57.702926Z",
          "start_time": "2023-08-15T15:16:57.326458Z"
        },
        "id": "b2e6f56f"
      },
      "outputs": [],
      "source": [
        "plt.figure ( figsize = ( 20 , 10 ) )\n",
        "\n",
        "sns.regplot ( x = Y_Train_LR , y = Train_Y , color = '#62466B' , scatter_kws = { 's': 100 } , marker = '*' );\n",
        "\n",
        "plt.xlabel ( \"Predicted Values of Training Data\" );\n",
        "\n",
        "plt.ylabel ( \"Actual values of Training Data\" );\n",
        "\n",
        "plt.title ( \"Scatter plot for Homoscedasticity\" );"
      ]
    },
    {
      "cell_type": "markdown",
      "id": "d7630b25",
      "metadata": {
        "id": "d7630b25"
      },
      "source": [
        "##### LINEARITY"
      ]
    },
    {
      "cell_type": "code",
      "execution_count": null,
      "id": "31a2b041",
      "metadata": {
        "ExecuteTime": {
          "end_time": "2023-08-15T15:16:58.016634Z",
          "start_time": "2023-08-15T15:16:57.703857Z"
        },
        "id": "31a2b041"
      },
      "outputs": [],
      "source": [
        "plt.figure ( figsize = ( 20 , 10 ) )\n",
        "\n",
        "sns.regplot ( x = Y_LR , y = Test_Y , color = '#62466B' , scatter_kws = { 's': 100 } , marker = '*' );\n",
        "\n",
        "plt.xlabel ( \"Predicted Values of Test Data\" );\n",
        "\n",
        "plt.ylabel ( \"Actual values of Test Data\" );\n",
        "\n",
        "plt.title ( \"Assumption Check : Linearity\" );"
      ]
    },
    {
      "cell_type": "markdown",
      "id": "5e141e24",
      "metadata": {
        "id": "5e141e24"
      },
      "source": [
        "### RIDGE REGRESSION"
      ]
    },
    {
      "cell_type": "code",
      "execution_count": null,
      "id": "574673d6",
      "metadata": {
        "ExecuteTime": {
          "end_time": "2023-08-15T15:16:58.111334Z",
          "start_time": "2023-08-15T15:16:58.016634Z"
        },
        "scrolled": true,
        "id": "574673d6"
      },
      "outputs": [],
      "source": [
        "Columns = list(Train_X.select_dtypes ( 'object' ).columns)\n",
        "\n",
        "Step1 = ColumnTransformer ( transformers = [ ('col_tnf' , OneHotEncoder ( sparse = False , drop = 'first' ) , Columns ) ] , remainder = 'passthrough')\n",
        "\n",
        "R = Ridge ( )\n",
        "\n",
        "Parameters = { 'alpha' : [ 1.0 , 2.0 , 3.0 ] , 'max_iter' : [ 100 , 200 , 500 ] }\n",
        "\n",
        "Step2 = GridSearchCV ( estimator = R , param_grid = Parameters , cv = 5 )\n",
        "\n",
        "Pipeline_R = Pipeline ( [ ( 'step1' , Step1) , ( 'step2' , Step2 ) ] )\n",
        "\n",
        "Pipeline_R.fit ( Train_X , Train_Y )\n",
        "\n",
        "Parameters = Step2.best_params_\n",
        "\n",
        "Step3 = Ridge ( **Parameters )\n",
        "\n",
        "Pipeline_R = Pipeline ( [ ( 'step1' , Step1) , ( 'step3' , Step3 ) ] )\n",
        "\n",
        "Pipeline_R.fit ( Train_X , Train_Y )"
      ]
    },
    {
      "cell_type": "code",
      "execution_count": null,
      "id": "540c79db",
      "metadata": {
        "ExecuteTime": {
          "end_time": "2023-08-15T15:16:58.136006Z",
          "start_time": "2023-08-15T15:16:58.112311Z"
        },
        "id": "540c79db"
      },
      "outputs": [],
      "source": [
        "Y_R = Pipeline_R.predict ( Test_X )\n",
        "\n",
        "R2_R = r2_score ( Test_Y , Y_R ) * 100\n",
        "\n",
        "N = Train_X.shape[0]\n",
        "\n",
        "P = Train_X.shape[1]\n",
        "\n",
        "print ( \"The R2 value or Coefficient of determination is : \" , R2_R )\n",
        "\n",
        "Adjusted_R2_R = 1 - ( ( 1 - R2_R ) * ( N - 1 ) / ( N - 1 - P ) )\n",
        "\n",
        "MSE_R = mean_squared_error ( Test_Y , Y_R )\n",
        "\n",
        "RMSE_R = np.sqrt ( MSE_R )\n",
        "\n",
        "MAPE_R = mean_absolute_percentage_error ( Test_Y , Y_R ) * 100\n",
        "\n",
        "MAE_R = mean_absolute_error ( Test_Y , Y_R )\n",
        "\n",
        "print ( \"\\nThe Adjusted R2 value is : \" , Adjusted_R2_R )"
      ]
    },
    {
      "cell_type": "code",
      "execution_count": null,
      "id": "f070f21a",
      "metadata": {
        "ExecuteTime": {
          "end_time": "2023-08-15T15:16:58.151697Z",
          "start_time": "2023-08-15T15:16:58.136006Z"
        },
        "id": "f070f21a"
      },
      "outputs": [],
      "source": [
        "R_PM = { 'Performance Metric' : [ 'R2' , 'Adjusted_R2' , 'MSE' , 'RMSE' , 'MAPE' , 'MAE' ] ,\n",
        "\n",
        "           'Values' : [ R2_R , Adjusted_R2_R , MSE_R , RMSE_R , MAPE_R , MAE_R ] }\n",
        "\n",
        "R_Performance_Metrics = pd.DataFrame ( R_PM )\n",
        "\n",
        "R_Performance_Metrics"
      ]
    },
    {
      "cell_type": "markdown",
      "id": "55c18a53",
      "metadata": {
        "id": "55c18a53"
      },
      "source": [
        "#### CHECKING FOR ASSUMPTIONS"
      ]
    },
    {
      "cell_type": "markdown",
      "id": "76f444db",
      "metadata": {
        "id": "76f444db"
      },
      "source": [
        "##### NORMALITY"
      ]
    },
    {
      "cell_type": "code",
      "execution_count": null,
      "id": "01fbe551",
      "metadata": {
        "ExecuteTime": {
          "end_time": "2023-08-15T15:16:58.501309Z",
          "start_time": "2023-08-15T15:16:58.151697Z"
        },
        "id": "01fbe551"
      },
      "outputs": [],
      "source": [
        "plt.figure ( figsize = ( 20 , 10 ) )\n",
        "\n",
        "sns.histplot ( ( Y_R - Test_Y ) , bins = 60 , color = '#840032' )\n",
        "\n",
        "Y_Train_R = Pipeline_R.predict ( Train_X )\n",
        "\n",
        "plt.figure ( figsize = ( 20 , 10 ) )\n",
        "\n",
        "sns.histplot ( ( Y_Train_R - Train_Y ) , bins = 60 , color = '#6A8D92' );"
      ]
    },
    {
      "cell_type": "code",
      "execution_count": null,
      "id": "d98a21fa",
      "metadata": {
        "ExecuteTime": {
          "end_time": "2023-08-15T15:16:58.517310Z",
          "start_time": "2023-08-15T15:16:58.502199Z"
        },
        "id": "d98a21fa"
      },
      "outputs": [],
      "source": [
        "Error_Train = Train_Y - Y_Train_R\n",
        "\n",
        "print ( \"The skewness value of Train is : \", np.round ( Error_Train.skew ( ) , 2 ) )\n",
        "\n",
        "print ( \"\\nThe kurotis value of Train is : \", np.round ( Error_Train.kurt ( ) + 3 , 2 )  )"
      ]
    },
    {
      "cell_type": "code",
      "execution_count": null,
      "id": "b825fb26",
      "metadata": {
        "ExecuteTime": {
          "end_time": "2023-08-15T15:16:58.533200Z",
          "start_time": "2023-08-15T15:16:58.519199Z"
        },
        "id": "b825fb26"
      },
      "outputs": [],
      "source": [
        "Error_Test = Test_Y - Y_R\n",
        "\n",
        "print ( \"The skewness value of Test is : \", np.round ( Error_Test.skew ( ) , 2 ) )\n",
        "\n",
        "print ( \"\\nThe kurotis value of Test is : \", np.round ( Error_Test.kurt ( ) + 3 , 2 )  )"
      ]
    },
    {
      "cell_type": "markdown",
      "id": "9161bd1a",
      "metadata": {
        "id": "9161bd1a"
      },
      "source": [
        "##### HOMOSCEDASTICITY"
      ]
    },
    {
      "cell_type": "code",
      "execution_count": null,
      "id": "fc615469",
      "metadata": {
        "ExecuteTime": {
          "end_time": "2023-08-15T15:16:58.878807Z",
          "start_time": "2023-08-15T15:16:58.534198Z"
        },
        "id": "fc615469"
      },
      "outputs": [],
      "source": [
        "plt.figure ( figsize = ( 20 , 10 ) )\n",
        "\n",
        "sns.regplot ( x = Y_Train_R , y = Train_Y , color = '#1B2845' , scatter_kws = { 's': 100 } , marker = '*' );\n",
        "\n",
        "plt.xlabel ( \"Predicted Values of Training Data\" );\n",
        "\n",
        "plt.ylabel ( \"Actual values of Training Data\" );\n",
        "\n",
        "plt.title ( \"Scatter plot for Homoscedasticity\" );"
      ]
    },
    {
      "cell_type": "markdown",
      "id": "b0cb1ca5",
      "metadata": {
        "id": "b0cb1ca5"
      },
      "source": [
        "##### LINEARITY"
      ]
    },
    {
      "cell_type": "code",
      "execution_count": null,
      "id": "8258c7e6",
      "metadata": {
        "ExecuteTime": {
          "end_time": "2023-08-15T15:16:59.229770Z",
          "start_time": "2023-08-15T15:16:58.879701Z"
        },
        "id": "8258c7e6"
      },
      "outputs": [],
      "source": [
        "plt.figure ( figsize = ( 20 , 10 ) )\n",
        "\n",
        "sns.regplot ( x = Y_R , y = Test_Y , color = '#62466B' , scatter_kws = { 's': 100 } , marker = '*' );\n",
        "\n",
        "plt.xlabel ( \"Predicted Values of Test Data\" );\n",
        "\n",
        "plt.ylabel ( \"Actual values of Test Data\" );\n",
        "\n",
        "plt.title ( \"Assumption Check : Linearity\" );"
      ]
    },
    {
      "cell_type": "markdown",
      "id": "2dd776f2",
      "metadata": {
        "id": "2dd776f2"
      },
      "source": [
        "### DECISION TREE REGRESSION"
      ]
    },
    {
      "cell_type": "code",
      "execution_count": null,
      "id": "668131ba",
      "metadata": {
        "ExecuteTime": {
          "end_time": "2023-08-15T15:17:00.547684Z",
          "start_time": "2023-08-15T15:16:59.230746Z"
        },
        "scrolled": true,
        "id": "668131ba"
      },
      "outputs": [],
      "source": [
        "Columns = list(Train_X.select_dtypes ( 'object' ).columns)\n",
        "\n",
        "Step1 = ColumnTransformer ( transformers = [ ('col_tnf' , OneHotEncoder ( sparse = False , drop = 'first' ) , Columns ) ] , remainder = 'passthrough')\n",
        "\n",
        "DT = DecisionTreeRegressor ( )\n",
        "\n",
        "Parameters = { 'criterion' : [ \"squared_error\", \"friedman_mse\", \"absolute_error\", \"poisson\" ] ,\n",
        "\n",
        "              'max_depth' : [ 10 , 15 , 20 ] , 'max_features' : [ \"auto\", \"sqrt\", \"log2\" ] }\n",
        "\n",
        "Step2 = GridSearchCV ( estimator = DT , param_grid = Parameters , cv = 5 )\n",
        "\n",
        "Pipeline_DT = Pipeline ( [ ( 'step1' , Step1) , ( 'step2' , Step2 ) ] )\n",
        "\n",
        "Pipeline_DT.fit ( Train_X , Train_Y )\n",
        "\n",
        "Parameters = Step2.best_params_\n",
        "\n",
        "Step3 = DecisionTreeRegressor ( **Parameters )\n",
        "\n",
        "Pipeline_DT = Pipeline ( [ ( 'step1' , Step1) , ( 'step3' , Step3 ) ] )\n",
        "\n",
        "Pipeline_DT.fit ( Train_X , Train_Y )"
      ]
    },
    {
      "cell_type": "code",
      "execution_count": null,
      "id": "a3e60dbc",
      "metadata": {
        "ExecuteTime": {
          "end_time": "2023-08-15T15:17:00.563699Z",
          "start_time": "2023-08-15T15:17:00.548681Z"
        },
        "id": "a3e60dbc"
      },
      "outputs": [],
      "source": [
        "Y_DT = Pipeline_DT.predict ( Test_X )\n",
        "\n",
        "R2_DT = r2_score ( Test_Y , Y_DT ) * 100\n",
        "\n",
        "N = Train_X.shape[0]\n",
        "\n",
        "P = Train_X.shape[1]\n",
        "\n",
        "print ( \"The R2 value or Coefficient of determination is : \" , R2_DT )\n",
        "\n",
        "Adjusted_R2_DT = 1 - ( ( 1 - R2_DT ) * ( N - 1 ) / ( N - 1 - P ) )\n",
        "\n",
        "MSE_DT = mean_squared_error ( Test_Y , Y_DT )\n",
        "\n",
        "RMSE_DT = np.sqrt ( MSE_DT )\n",
        "\n",
        "MAPE_DT = mean_absolute_percentage_error ( Test_Y , Y_DT ) * 100\n",
        "\n",
        "MAE_DT = mean_absolute_error ( Test_Y , Y_DT )\n",
        "\n",
        "print ( \"\\nThe Adjusted R2 value is : \" , Adjusted_R2_DT )"
      ]
    },
    {
      "cell_type": "code",
      "execution_count": null,
      "id": "ac5f0925",
      "metadata": {
        "ExecuteTime": {
          "end_time": "2023-08-15T15:17:00.579699Z",
          "start_time": "2023-08-15T15:17:00.564683Z"
        },
        "id": "ac5f0925"
      },
      "outputs": [],
      "source": [
        "DT_PM = { 'Performance Metric' : [ 'R2' , 'Adjusted_R2' , 'MSE' , 'RMSE' , 'MAPE' , 'MAE' ] ,\n",
        "\n",
        "           'Values' : [ R2_DT , Adjusted_R2_DT , MSE_DT , RMSE_DT , MAPE_DT , MAE_DT ] }\n",
        "\n",
        "DT_Performance_Metrics = pd.DataFrame ( DT_PM )\n",
        "\n",
        "DT_Performance_Metrics"
      ]
    },
    {
      "cell_type": "markdown",
      "id": "fbb87ecf",
      "metadata": {
        "id": "fbb87ecf"
      },
      "source": [
        "#### CHECKING FOR ASSUMPTIONS"
      ]
    },
    {
      "cell_type": "markdown",
      "id": "3bf97ac6",
      "metadata": {
        "id": "3bf97ac6"
      },
      "source": [
        "##### NORMALITY"
      ]
    },
    {
      "cell_type": "code",
      "execution_count": null,
      "id": "2c55ae55",
      "metadata": {
        "ExecuteTime": {
          "end_time": "2023-08-15T15:17:00.877858Z",
          "start_time": "2023-08-15T15:17:00.580682Z"
        },
        "id": "2c55ae55"
      },
      "outputs": [],
      "source": [
        "plt.figure ( figsize = ( 20 , 10 ) )\n",
        "\n",
        "sns.histplot ( ( Y_DT - Test_Y ) , bins = 60 , color = '#8C271E' )\n",
        "\n",
        "Y_Train_DT = Pipeline_DT.predict ( Train_X )\n",
        "\n",
        "plt.figure ( figsize = ( 20 , 10 ) )\n",
        "\n",
        "sns.histplot ( ( Y_Train_DT - Train_Y ) , bins = 60 , color = '#ABA194' );"
      ]
    },
    {
      "cell_type": "code",
      "execution_count": null,
      "id": "90398bfd",
      "metadata": {
        "ExecuteTime": {
          "end_time": "2023-08-15T15:17:00.893185Z",
          "start_time": "2023-08-15T15:17:00.878743Z"
        },
        "id": "90398bfd"
      },
      "outputs": [],
      "source": [
        "Error_Train = Train_Y - Y_Train_DT\n",
        "\n",
        "print ( \"The skewness value of Train is : \", np.round ( Error_Train.skew ( ) , 2 ) )\n",
        "\n",
        "print ( \"\\nThe kurotis value of Train is : \", np.round ( Error_Train.kurt ( ) + 3 , 2 )  )"
      ]
    },
    {
      "cell_type": "code",
      "execution_count": null,
      "id": "819d3a09",
      "metadata": {
        "ExecuteTime": {
          "end_time": "2023-08-15T15:17:00.908473Z",
          "start_time": "2023-08-15T15:17:00.894083Z"
        },
        "id": "819d3a09"
      },
      "outputs": [],
      "source": [
        "Error_Test = Test_Y - Y_DT\n",
        "\n",
        "print ( \"The skewness value of Test is : \", np.round ( Error_Test.skew ( ) , 2 ) )\n",
        "\n",
        "print ( \"\\nThe kurotis value of Test is : \", np.round ( Error_Test.kurt ( ) + 3 , 2 )  )"
      ]
    },
    {
      "cell_type": "markdown",
      "id": "21e4813e",
      "metadata": {
        "id": "21e4813e"
      },
      "source": [
        "##### HOMOSCEDASTICITY"
      ]
    },
    {
      "cell_type": "code",
      "execution_count": null,
      "id": "5713015e",
      "metadata": {
        "ExecuteTime": {
          "end_time": "2023-08-15T15:17:01.297564Z",
          "start_time": "2023-08-15T15:17:00.909474Z"
        },
        "id": "5713015e"
      },
      "outputs": [],
      "source": [
        "plt.figure ( figsize = ( 20 , 10 ) )\n",
        "\n",
        "sns.regplot ( x = Y_Train_DT , y = Train_Y , color = '#0F7173' , scatter_kws = { 's': 100 } , marker = '*' );\n",
        "\n",
        "plt.xlabel ( \"Predicted Values of Training Data\" );\n",
        "\n",
        "plt.ylabel ( \"Actual values of Training Data\" );\n",
        "\n",
        "plt.title ( \"Scatter plot for Homoscedasticity\" );"
      ]
    },
    {
      "cell_type": "markdown",
      "id": "efefe512",
      "metadata": {
        "id": "efefe512"
      },
      "source": [
        "##### LINEARITY"
      ]
    },
    {
      "cell_type": "code",
      "execution_count": null,
      "id": "d2d3f664",
      "metadata": {
        "ExecuteTime": {
          "end_time": "2023-08-15T15:17:01.641567Z",
          "start_time": "2023-08-15T15:17:01.299567Z"
        },
        "id": "d2d3f664"
      },
      "outputs": [],
      "source": [
        "plt.figure ( figsize = ( 20 , 10 ) )\n",
        "\n",
        "sns.regplot ( x = Y_DT , y = Test_Y , color = '#993955' , scatter_kws = { 's': 100 } , marker = '*' );\n",
        "\n",
        "plt.xlabel ( \"Predicted Values of Test Data\" );\n",
        "\n",
        "plt.ylabel ( \"Actual values of Test Data\" );\n",
        "\n",
        "plt.title ( \"Assumption Check : Linearity\" );"
      ]
    },
    {
      "cell_type": "markdown",
      "id": "1e19c552",
      "metadata": {
        "id": "1e19c552"
      },
      "source": [
        "### RANDOM FOREST REGRESSION"
      ]
    },
    {
      "cell_type": "code",
      "execution_count": null,
      "id": "766a76fc",
      "metadata": {
        "ExecuteTime": {
          "end_time": "2023-08-15T15:26:01.534406Z",
          "start_time": "2023-08-15T15:17:01.642568Z"
        },
        "scrolled": true,
        "id": "766a76fc"
      },
      "outputs": [],
      "source": [
        "Columns = list(Train_X.select_dtypes ( 'object' ).columns)\n",
        "\n",
        "Step1 = ColumnTransformer ( transformers = [ ('col_tnf' , OneHotEncoder ( sparse = False , drop = 'first' ) , Columns ) ] , remainder = 'passthrough')\n",
        "\n",
        "RF = RandomForestRegressor ( )\n",
        "\n",
        "Parameters = { 'n_estimators' : [ 100 , 200 , 1000 ] ,\n",
        "\n",
        "              'max_depth' : [ 10 , 15 , 20 ] , 'criterion' : [ \"squared_error\", \"absolute_error\", \"friedman_mse\", \"poisson\" ] }\n",
        "\n",
        "Step2 = GridSearchCV ( estimator = RF , param_grid = Parameters , cv = 5 )\n",
        "\n",
        "Pipeline_RF = Pipeline ( [ ( 'step1' , Step1) , ( 'step2' , Step2 ) ] )\n",
        "\n",
        "Pipeline_RF.fit ( Train_X , Train_Y )\n",
        "\n",
        "Parameters = Step2.best_params_\n",
        "\n",
        "Step3 = RandomForestRegressor ( **Parameters )\n",
        "\n",
        "Pipeline_RF = Pipeline ( [ ( 'step1' , Step1) , ( 'step3' , Step3 ) ] )\n",
        "\n",
        "Pipeline_RF.fit ( Train_X , Train_Y )"
      ]
    },
    {
      "cell_type": "code",
      "execution_count": null,
      "id": "1aa1ef6e",
      "metadata": {
        "ExecuteTime": {
          "end_time": "2023-08-15T15:26:01.559334Z",
          "start_time": "2023-08-15T15:26:01.534406Z"
        },
        "id": "1aa1ef6e"
      },
      "outputs": [],
      "source": [
        "Y_RF = Pipeline_RF.predict ( Test_X )\n",
        "\n",
        "R2_RF = r2_score ( Test_Y , Y_RF ) * 100\n",
        "\n",
        "N = Train_X.shape[0]\n",
        "\n",
        "P = Train_X.shape[1]\n",
        "\n",
        "print ( \"The R2 value or Coefficient of determination is : \" , R2_RF )\n",
        "\n",
        "Adjusted_R2_RF = 1 - ( ( 1 - R2_RF ) * ( N - 1 ) / ( N - 1 - P ) )\n",
        "\n",
        "MSE_RF = mean_squared_error ( Test_Y , Y_RF )\n",
        "\n",
        "RMSE_RF = np.sqrt ( MSE_RF )\n",
        "\n",
        "MAPE_RF = mean_absolute_percentage_error ( Test_Y , Y_RF ) * 100\n",
        "\n",
        "MAE_RF = mean_absolute_error ( Test_Y , Y_RF )\n",
        "\n",
        "print ( \"\\nThe Adjusted R2 value is : \" , Adjusted_R2_RF )"
      ]
    },
    {
      "cell_type": "code",
      "execution_count": null,
      "id": "e8949797",
      "metadata": {
        "ExecuteTime": {
          "end_time": "2023-08-15T15:26:01.575957Z",
          "start_time": "2023-08-15T15:26:01.561680Z"
        },
        "id": "e8949797"
      },
      "outputs": [],
      "source": [
        "RF_PM = { 'Performance Metric' : [ 'R2' , 'Adjusted_R2' , 'MSE' , 'RMSE' , 'MAPE' , 'MAE' ] ,\n",
        "\n",
        "           'Values' : [ R2_RF , Adjusted_R2_RF , MSE_RF , RMSE_RF , MAPE_RF , MAE_RF ] }\n",
        "\n",
        "RF_Performance_Metrics = pd.DataFrame ( RF_PM )\n",
        "\n",
        "RF_Performance_Metrics"
      ]
    },
    {
      "cell_type": "markdown",
      "id": "92e5816b",
      "metadata": {
        "id": "92e5816b"
      },
      "source": [
        "#### CHECKING FOR ASSUMPTIONS"
      ]
    },
    {
      "cell_type": "markdown",
      "id": "de289cee",
      "metadata": {
        "id": "de289cee"
      },
      "source": [
        "##### NORMALITY"
      ]
    },
    {
      "cell_type": "code",
      "execution_count": null,
      "id": "2d0974dd",
      "metadata": {
        "ExecuteTime": {
          "end_time": "2023-08-15T15:26:01.926726Z",
          "start_time": "2023-08-15T15:26:01.575957Z"
        },
        "id": "2d0974dd"
      },
      "outputs": [],
      "source": [
        "plt.figure ( figsize = ( 20 , 10 ) )\n",
        "\n",
        "sns.histplot ( ( Y_RF - Test_Y ) , bins = 60 , color = '#DD0426' )\n",
        "\n",
        "Y_Train_RF = Pipeline_RF.predict ( Train_X )\n",
        "\n",
        "plt.figure ( figsize = ( 20 , 10 ) )\n",
        "\n",
        "sns.histplot ( ( Y_Train_RF - Train_Y ) , bins = 60 , color = '#273043' );"
      ]
    },
    {
      "cell_type": "code",
      "execution_count": null,
      "id": "f0de4d3d",
      "metadata": {
        "ExecuteTime": {
          "end_time": "2023-08-15T15:26:01.942652Z",
          "start_time": "2023-08-15T15:26:01.926726Z"
        },
        "id": "f0de4d3d"
      },
      "outputs": [],
      "source": [
        "Error_Train = Train_Y - Y_Train_RF\n",
        "\n",
        "print ( \"The skewness value of Train is : \", np.round ( Error_Train.skew ( ) , 2 ) )\n",
        "\n",
        "print ( \"\\nThe kurotis value of Train is : \", np.round ( Error_Train.kurt ( ) + 3 , 2 )  )"
      ]
    },
    {
      "cell_type": "code",
      "execution_count": null,
      "id": "25287b3e",
      "metadata": {
        "ExecuteTime": {
          "end_time": "2023-08-15T15:26:01.967372Z",
          "start_time": "2023-08-15T15:26:01.943725Z"
        },
        "id": "25287b3e"
      },
      "outputs": [],
      "source": [
        "Error_Test = Test_Y - Y_RF\n",
        "\n",
        "print ( \"The skewness value of Test is : \", np.round ( Error_Test.skew ( ) , 2 ) )\n",
        "\n",
        "print ( \"\\nThe kurotis value of Test is : \", np.round ( Error_Test.kurt ( ) + 3 , 2 )  )"
      ]
    },
    {
      "cell_type": "markdown",
      "id": "45818a42",
      "metadata": {
        "id": "45818a42"
      },
      "source": [
        "##### HOMOSCEDASTICITY"
      ]
    },
    {
      "cell_type": "code",
      "execution_count": null,
      "id": "3c3c9759",
      "metadata": {
        "ExecuteTime": {
          "end_time": "2023-08-15T15:26:02.295723Z",
          "start_time": "2023-08-15T15:26:01.968352Z"
        },
        "id": "3c3c9759"
      },
      "outputs": [],
      "source": [
        "plt.figure ( figsize = ( 20 , 10 ) )\n",
        "\n",
        "sns.regplot ( x = Y_Train_RF , y = Train_Y , color = '#56351E' , scatter_kws = { 's': 100 } , marker = '*' );\n",
        "\n",
        "plt.xlabel ( \"Predicted Values of Training Data\" );\n",
        "\n",
        "plt.ylabel ( \"Actual values of Training Data\" );\n",
        "\n",
        "plt.title ( \"Scatter plot for Homoscedasticity\" );"
      ]
    },
    {
      "cell_type": "markdown",
      "id": "5b48a786",
      "metadata": {
        "id": "5b48a786"
      },
      "source": [
        "##### LINEARITY"
      ]
    },
    {
      "cell_type": "code",
      "execution_count": null,
      "id": "968bc2b4",
      "metadata": {
        "ExecuteTime": {
          "end_time": "2023-08-15T15:26:02.580633Z",
          "start_time": "2023-08-15T15:26:02.295870Z"
        },
        "id": "968bc2b4"
      },
      "outputs": [],
      "source": [
        "plt.figure ( figsize = ( 20 , 10 ) )\n",
        "\n",
        "sns.regplot ( x = Y_RF , y = Test_Y , color = '#946683' , scatter_kws = { 's': 100 } , marker = '*' );\n",
        "\n",
        "plt.xlabel ( \"Predicted Values of Test Data\" );\n",
        "\n",
        "plt.ylabel ( \"Actual values of Test Data\" );\n",
        "\n",
        "plt.title ( \"Assumption Check : Linearity\" );"
      ]
    },
    {
      "cell_type": "markdown",
      "id": "01bbd5f0",
      "metadata": {
        "id": "01bbd5f0"
      },
      "source": [
        "### ADABOOST REGRESSOR"
      ]
    },
    {
      "cell_type": "code",
      "execution_count": null,
      "id": "a07d8c42",
      "metadata": {
        "ExecuteTime": {
          "end_time": "2023-08-15T15:40:45.715276Z",
          "start_time": "2023-08-15T15:26:02.580633Z"
        },
        "id": "a07d8c42"
      },
      "outputs": [],
      "source": [
        "Columns = list(Train_X.select_dtypes ( 'object' ).columns)\n",
        "\n",
        "Step1 = ColumnTransformer ( transformers = [ ('col_tnf' , OneHotEncoder ( sparse = False , drop = 'first' ) , Columns ) ] , remainder = 'passthrough')\n",
        "\n",
        "AB = AdaBoostRegressor ( )\n",
        "\n",
        "Parameters = { 'n_estimators' : [ 50 , 100 , 200 ] ,\n",
        "\n",
        "              'learning_rate' : [ 0.1 , 0.01, 1 ] , 'estimator' : [ RF ] }\n",
        "\n",
        "Step2 = GridSearchCV ( estimator = AB , param_grid = Parameters , cv = 5 )\n",
        "\n",
        "Pipeline_AB = Pipeline ( [ ( 'step1' , Step1) , ( 'step2' , Step2 ) ] )\n",
        "\n",
        "Pipeline_AB.fit ( Train_X , Train_Y )\n",
        "\n",
        "Parameters = Step2.best_params_\n",
        "\n",
        "Step3 = AdaBoostRegressor ( **Parameters )\n",
        "\n",
        "Pipeline_AB = Pipeline ( [ ( 'step1' , Step1) , ( 'step3' , Step3 ) ] )\n",
        "\n",
        "Pipeline_AB.fit ( Train_X , Train_Y )"
      ]
    },
    {
      "cell_type": "code",
      "execution_count": null,
      "id": "87f31ad0",
      "metadata": {
        "ExecuteTime": {
          "end_time": "2023-08-15T15:40:46.881611Z",
          "start_time": "2023-08-15T15:40:45.715276Z"
        },
        "id": "87f31ad0"
      },
      "outputs": [],
      "source": [
        "Y_AB = Pipeline_AB.predict ( Test_X )\n",
        "\n",
        "R2_AB = r2_score ( Test_Y , Y_AB ) * 100\n",
        "\n",
        "N = Train_X.shape[0]\n",
        "\n",
        "P = Train_X.shape[1]\n",
        "\n",
        "print ( \"The R2 value or Coefficient of determination is : \" , R2_AB )\n",
        "\n",
        "Adjusted_R2_AB = 1 - ( ( 1 - R2_AB ) * ( N - 1 ) / ( N - 1 - P ) )\n",
        "\n",
        "MSE_AB = mean_squared_error ( Test_Y , Y_AB )\n",
        "\n",
        "RMSE_AB = np.sqrt ( MSE_AB )\n",
        "\n",
        "MAPE_AB = mean_absolute_percentage_error ( Test_Y , Y_AB ) * 100\n",
        "\n",
        "MAE_AB = mean_absolute_error ( Test_Y , Y_AB )\n",
        "\n",
        "print ( \"\\nThe Adjusted R2 value is : \" , Adjusted_R2_AB )"
      ]
    },
    {
      "cell_type": "code",
      "execution_count": null,
      "id": "2b566f44",
      "metadata": {
        "ExecuteTime": {
          "end_time": "2023-08-15T15:40:46.899873Z",
          "start_time": "2023-08-15T15:40:46.883308Z"
        },
        "id": "2b566f44"
      },
      "outputs": [],
      "source": [
        "AB_PM = { 'Performance Metric' : [ 'R2' , 'Adjusted_R2' , 'MSE' , 'RMSE' , 'MAPE' , 'MAE' ] ,\n",
        "\n",
        "           'Values' : [ R2_AB , Adjusted_R2_AB , MSE_AB , RMSE_AB , MAPE_AB , MAE_AB ] }\n",
        "\n",
        "AB_Performance_Metrics = pd.DataFrame ( AB_PM )\n",
        "\n",
        "AB_Performance_Metrics"
      ]
    },
    {
      "cell_type": "markdown",
      "id": "f6afc2c2",
      "metadata": {
        "id": "f6afc2c2"
      },
      "source": [
        "#### CHECKING FOR ASSUMPTIONS"
      ]
    },
    {
      "cell_type": "markdown",
      "id": "c5190ee6",
      "metadata": {
        "id": "c5190ee6"
      },
      "source": [
        "##### NORMALITY"
      ]
    },
    {
      "cell_type": "code",
      "execution_count": null,
      "id": "74c01d16",
      "metadata": {
        "ExecuteTime": {
          "end_time": "2023-08-15T15:40:49.294399Z",
          "start_time": "2023-08-15T15:40:46.901900Z"
        },
        "id": "74c01d16"
      },
      "outputs": [],
      "source": [
        "plt.figure ( figsize = ( 20 , 10 ) )\n",
        "\n",
        "sns.histplot ( ( Y_AB - Test_Y ) , bins = 60 , color = '#1E1014' )\n",
        "\n",
        "Y_Train_AB = Pipeline_AB.predict ( Train_X )\n",
        "\n",
        "plt.figure ( figsize = ( 20 , 10 ) )\n",
        "\n",
        "sns.histplot ( ( Y_Train_AB - Train_Y ) , bins = 60 , color = '#114B5F' );"
      ]
    },
    {
      "cell_type": "code",
      "execution_count": null,
      "id": "7efed8b6",
      "metadata": {
        "ExecuteTime": {
          "end_time": "2023-08-15T15:40:49.310521Z",
          "start_time": "2023-08-15T15:40:49.294399Z"
        },
        "id": "7efed8b6"
      },
      "outputs": [],
      "source": [
        "Error_Train = Train_Y - Y_Train_AB\n",
        "\n",
        "print ( \"The skewness value of Train is : \", np.round ( Error_Train.skew ( ) , 2 ) )\n",
        "\n",
        "print ( \"\\nThe kurotis value of Train is : \", np.round ( Error_Train.kurt ( ) + 3 , 2 )  )"
      ]
    },
    {
      "cell_type": "code",
      "execution_count": null,
      "id": "5036c2f7",
      "metadata": {
        "ExecuteTime": {
          "end_time": "2023-08-15T15:40:49.336938Z",
          "start_time": "2023-08-15T15:40:49.312892Z"
        },
        "id": "5036c2f7"
      },
      "outputs": [],
      "source": [
        "Error_Test = Test_Y - Y_AB\n",
        "\n",
        "print ( \"The skewness value of Test is : \", np.round ( Error_Test.skew ( ) , 2 ) )\n",
        "\n",
        "print ( \"\\nThe kurotis value of Test is : \", np.round ( Error_Test.kurt ( ) + 3 , 2 )  )"
      ]
    },
    {
      "cell_type": "markdown",
      "id": "4af17030",
      "metadata": {
        "id": "4af17030"
      },
      "source": [
        "##### HOMOSCEDASTICITY"
      ]
    },
    {
      "cell_type": "code",
      "execution_count": null,
      "id": "526f480b",
      "metadata": {
        "ExecuteTime": {
          "end_time": "2023-08-15T15:40:49.698438Z",
          "start_time": "2023-08-15T15:40:49.337337Z"
        },
        "id": "526f480b"
      },
      "outputs": [],
      "source": [
        "plt.figure ( figsize = ( 20 , 10 ) )\n",
        "\n",
        "sns.regplot ( x = Y_Train_AB , y = Train_Y , color = '#472D30' , scatter_kws = { 's': 100 } , marker = '*' );\n",
        "\n",
        "plt.xlabel ( \"Predicted Values of Training Data\" );\n",
        "\n",
        "plt.ylabel ( \"Actual values of Training Data\" );\n",
        "\n",
        "plt.title ( \"Scatter plot for Homoscedasticity\" );"
      ]
    },
    {
      "cell_type": "markdown",
      "id": "00c96420",
      "metadata": {
        "id": "00c96420"
      },
      "source": [
        "##### LINEARITY"
      ]
    },
    {
      "cell_type": "code",
      "execution_count": null,
      "id": "2755555f",
      "metadata": {
        "ExecuteTime": {
          "end_time": "2023-08-15T15:40:50.005939Z",
          "start_time": "2023-08-15T15:40:49.698438Z"
        },
        "id": "2755555f"
      },
      "outputs": [],
      "source": [
        "plt.figure ( figsize = ( 20 , 10 ) )\n",
        "\n",
        "sns.regplot ( x = Y_AB , y = Test_Y , color = '#481D24' , scatter_kws = { 's': 100 } , marker = '*' );\n",
        "\n",
        "plt.xlabel ( \"Predicted Values of Test Data\" );\n",
        "\n",
        "plt.ylabel ( \"Actual values of Test Data\" );\n",
        "\n",
        "plt.title ( \"Assumption Check : Linearity\" );"
      ]
    },
    {
      "cell_type": "markdown",
      "id": "8a3297d6",
      "metadata": {
        "id": "8a3297d6"
      },
      "source": [
        "### GRADIENT BOOSTING"
      ]
    },
    {
      "cell_type": "code",
      "execution_count": null,
      "id": "2bc180a2",
      "metadata": {
        "ExecuteTime": {
          "end_time": "2023-08-15T15:41:15.292057Z",
          "start_time": "2023-08-15T15:40:50.005939Z"
        },
        "id": "2bc180a2"
      },
      "outputs": [],
      "source": [
        "GB = GradientBoostingRegressor ( )\n",
        "\n",
        "Parameters = { 'n_estimators' : [ 50 , 100 , 200 ] , 'learning_rate' : [ 0.1 , 0.01, 1 ] ,\n",
        "\n",
        "              'loss' : [ 'squared_error', 'absolute_error', 'huber', 'quantile' ] }\n",
        "\n",
        "Step2 = GridSearchCV ( estimator = GB , param_grid = Parameters , cv = 5 )\n",
        "\n",
        "Pipeline_GB = Pipeline ( [ ( 'step1' , Step1) , ( 'step2' , Step2 ) ] )\n",
        "\n",
        "Pipeline_GB.fit ( Train_X , Train_Y )\n",
        "\n",
        "Parameters = Step2.best_params_\n",
        "\n",
        "Step3 = GradientBoostingRegressor ( **Parameters )\n",
        "\n",
        "Pipeline_GB = Pipeline ( [ ( 'step1' , Step1) , ( 'step3' , Step3 ) ] )\n",
        "\n",
        "Pipeline_GB.fit ( Train_X , Train_Y )"
      ]
    },
    {
      "cell_type": "code",
      "execution_count": null,
      "id": "102ec15b",
      "metadata": {
        "ExecuteTime": {
          "end_time": "2023-08-15T15:41:15.307354Z",
          "start_time": "2023-08-15T15:41:15.292057Z"
        },
        "id": "102ec15b"
      },
      "outputs": [],
      "source": [
        "Y_GB = Pipeline_GB.predict ( Test_X )\n",
        "\n",
        "R2_GB = r2_score ( Test_Y , Y_GB ) * 100\n",
        "\n",
        "print ( \"The R2 value or Coefficient of determination is : \" , R2_GB )\n",
        "\n",
        "Adjusted_R2_GB = 1 - ( ( 1 - R2_GB ) * ( N - 1 ) / ( N - 1 - P ) )\n",
        "\n",
        "MSE_GB = mean_squared_error ( Test_Y , Y_GB )\n",
        "\n",
        "RMSE_GB = np.sqrt ( MSE_GB )\n",
        "\n",
        "MAPE_GB = mean_absolute_percentage_error ( Test_Y , Y_GB ) * 100\n",
        "\n",
        "MAE_GB = mean_absolute_error ( Test_Y , Y_GB )\n",
        "\n",
        "print ( \"\\nThe Adjusted R2 value is : \" , Adjusted_R2_GB )"
      ]
    },
    {
      "cell_type": "code",
      "execution_count": null,
      "id": "10d7d595",
      "metadata": {
        "ExecuteTime": {
          "end_time": "2023-08-15T15:41:15.340551Z",
          "start_time": "2023-08-15T15:41:15.308403Z"
        },
        "id": "10d7d595"
      },
      "outputs": [],
      "source": [
        "GB_PM = { 'Performance Metric' : [ 'R2' , 'Adjusted_R2' , 'MSE' , 'RMSE' , 'MAPE' , 'MAE' ] ,\n",
        "\n",
        "           'Values' : [ R2_GB , Adjusted_R2_GB , MSE_GB , RMSE_GB , MAPE_GB , MAE_GB ] }\n",
        "\n",
        "GB_Performance_Metrics = pd.DataFrame ( GB_PM )\n",
        "\n",
        "GB_Performance_Metrics"
      ]
    },
    {
      "cell_type": "markdown",
      "id": "49aa85ca",
      "metadata": {
        "id": "49aa85ca"
      },
      "source": [
        "#### CHECKING FOR ASSUMPTIONS"
      ]
    },
    {
      "cell_type": "markdown",
      "id": "941cb275",
      "metadata": {
        "id": "941cb275"
      },
      "source": [
        "##### NORMALITY"
      ]
    },
    {
      "cell_type": "code",
      "execution_count": null,
      "id": "b7a300fb",
      "metadata": {
        "ExecuteTime": {
          "end_time": "2023-08-15T15:41:15.661413Z",
          "start_time": "2023-08-15T15:41:15.343689Z"
        },
        "id": "b7a300fb"
      },
      "outputs": [],
      "source": [
        "plt.figure ( figsize = ( 20 , 10 ) )\n",
        "\n",
        "sns.histplot ( ( Y_GB - Test_Y ) , bins = 60 , color = '#1C0B19' )\n",
        "\n",
        "Y_Train_GB = Pipeline_GB.predict ( Train_X )\n",
        "\n",
        "plt.figure ( figsize = ( 20 , 10 ) )\n",
        "\n",
        "sns.histplot ( ( Y_Train_GB - Train_Y ) , bins = 60 , color = '#13303D' );"
      ]
    },
    {
      "cell_type": "code",
      "execution_count": null,
      "id": "b56e410b",
      "metadata": {
        "ExecuteTime": {
          "end_time": "2023-08-15T15:41:15.670790Z",
          "start_time": "2023-08-15T15:41:15.663209Z"
        },
        "id": "b56e410b"
      },
      "outputs": [],
      "source": [
        "Error_Train = Train_Y - Y_Train_GB\n",
        "\n",
        "print ( \"The skewness value of Train is : \", np.round ( Error_Train.skew ( ) , 2 ) )\n",
        "\n",
        "print ( \"\\nThe kurotis value of Train is : \", np.round ( Error_Train.kurt ( ) + 3 , 2 )  )"
      ]
    },
    {
      "cell_type": "code",
      "execution_count": null,
      "id": "4b844ac6",
      "metadata": {
        "ExecuteTime": {
          "end_time": "2023-08-15T15:41:15.702210Z",
          "start_time": "2023-08-15T15:41:15.671894Z"
        },
        "id": "4b844ac6"
      },
      "outputs": [],
      "source": [
        "Error_Test = Test_Y - Y_GB\n",
        "\n",
        "print ( \"The skewness value of Test is : \", np.round ( Error_Test.skew ( ) , 2 ) )\n",
        "\n",
        "print ( \"\\nThe kurotis value of Test is : \", np.round ( Error_Test.kurt ( ) + 3 , 2 )  )"
      ]
    },
    {
      "cell_type": "markdown",
      "id": "c03a2c48",
      "metadata": {
        "id": "c03a2c48"
      },
      "source": [
        "##### HOMOSCEDASTICITY"
      ]
    },
    {
      "cell_type": "code",
      "execution_count": null,
      "id": "4db61c83",
      "metadata": {
        "ExecuteTime": {
          "end_time": "2023-08-15T15:41:16.030443Z",
          "start_time": "2023-08-15T15:41:15.702210Z"
        },
        "id": "4db61c83"
      },
      "outputs": [],
      "source": [
        "plt.figure ( figsize = ( 20 , 10 ) )\n",
        "\n",
        "sns.regplot ( x = Y_Train_GB , y = Train_Y , color = '#9F4A54' , scatter_kws = { 's': 100 } , marker = '*' );\n",
        "\n",
        "plt.xlabel ( \"Predicted Values of Training Data\" );\n",
        "\n",
        "plt.ylabel ( \"Actual values of Training Data\" );\n",
        "\n",
        "plt.title ( \"Scatter plot for Homoscedasticity\" );"
      ]
    },
    {
      "cell_type": "markdown",
      "id": "55c50676",
      "metadata": {
        "id": "55c50676"
      },
      "source": [
        "##### LINEARITY"
      ]
    },
    {
      "cell_type": "code",
      "execution_count": null,
      "id": "c3047f01",
      "metadata": {
        "ExecuteTime": {
          "end_time": "2023-08-15T15:41:16.351605Z",
          "start_time": "2023-08-15T15:41:16.031252Z"
        },
        "id": "c3047f01"
      },
      "outputs": [],
      "source": [
        "plt.figure ( figsize = ( 20 , 10 ) )\n",
        "\n",
        "sns.regplot ( x = Y_GB , y = Test_Y , color = '#481D24' , scatter_kws = { 's': 100 } , marker = '*' );\n",
        "\n",
        "plt.xlabel ( \"Predicted Values of Test Data\" );\n",
        "\n",
        "plt.ylabel ( \"Actual values of Test Data\" );\n",
        "\n",
        "plt.title ( \"Assumption Check : Linearity\" );"
      ]
    },
    {
      "cell_type": "markdown",
      "id": "38c16c1f",
      "metadata": {
        "id": "38c16c1f"
      },
      "source": [
        "### EXTREME GRADIENT BOOSTING"
      ]
    },
    {
      "cell_type": "code",
      "execution_count": null,
      "id": "e047bf9b",
      "metadata": {
        "ExecuteTime": {
          "end_time": "2023-08-15T15:41:24.750639Z",
          "start_time": "2023-08-15T15:41:16.351605Z"
        },
        "id": "e047bf9b"
      },
      "outputs": [],
      "source": [
        "XGB = XGBRFRegressor ( )\n",
        "\n",
        "Parameters = { 'learning_rate' : [ 0.1 , 0.01, 1 ] , 'max_depth' : [ 10 , 15 , 20 ] }\n",
        "\n",
        "Step2 = GridSearchCV ( estimator = XGB , param_grid = Parameters , cv = 5 )\n",
        "\n",
        "Pipeline_XGB = Pipeline ( [ ( 'step1' , Step1) , ( 'step2' , Step2 ) ] )\n",
        "\n",
        "Pipeline_XGB.fit ( Train_X , Train_Y )\n",
        "\n",
        "Parameters = Step2.best_params_\n",
        "\n",
        "Step3 = XGBRFRegressor ( **Parameters )\n",
        "\n",
        "Pipeline_XGB = Pipeline ( [ ( 'step1' , Step1) , ( 'step3' , Step3 ) ] )\n",
        "\n",
        "Pipeline_XGB.fit ( Train_X , Train_Y )"
      ]
    },
    {
      "cell_type": "code",
      "execution_count": null,
      "id": "5beab432",
      "metadata": {
        "ExecuteTime": {
          "end_time": "2023-08-15T15:41:24.766070Z",
          "start_time": "2023-08-15T15:41:24.750639Z"
        },
        "id": "5beab432"
      },
      "outputs": [],
      "source": [
        "Y_XGB = Pipeline_XGB.predict ( Test_X )\n",
        "\n",
        "R2_XGB = r2_score ( Test_Y , Y_XGB ) * 100\n",
        "\n",
        "print ( \"The R2 value or Coefficient of determination is : \" , R2_XGB )\n",
        "\n",
        "Adjusted_R2_XGB = 1 - ( ( 1 - R2_XGB ) * ( N - 1 ) / ( N - 1 - P ) )\n",
        "\n",
        "MSE_XGB = mean_squared_error ( Test_Y , Y_XGB )\n",
        "\n",
        "RMSE_XGB = np.sqrt ( MSE_XGB )\n",
        "\n",
        "MAPE_XGB = mean_absolute_percentage_error ( Test_Y , Y_XGB ) * 100\n",
        "\n",
        "MAE_XGB = mean_absolute_error ( Test_Y , Y_XGB )\n",
        "\n",
        "print ( \"\\nThe Adjusted R2 value is : \" , Adjusted_R2_XGB )"
      ]
    },
    {
      "cell_type": "code",
      "execution_count": null,
      "id": "e3131a31",
      "metadata": {
        "ExecuteTime": {
          "end_time": "2023-08-15T15:41:24.807826Z",
          "start_time": "2023-08-15T15:41:24.767097Z"
        },
        "id": "e3131a31"
      },
      "outputs": [],
      "source": [
        "XGB_PM = { 'Performance Metric' : [ 'R2' , 'Adjusted_R2' , 'MSE' , 'RMSE' , 'MAPE' , 'MAE' ] ,\n",
        "\n",
        "           'Values' : [ R2_XGB , Adjusted_R2_XGB , MSE_XGB , RMSE_XGB , MAPE_XGB , MAE_XGB ] }\n",
        "\n",
        "XGB_Performance_Metrics = pd.DataFrame ( XGB_PM )\n",
        "\n",
        "XGB_Performance_Metrics"
      ]
    },
    {
      "cell_type": "markdown",
      "id": "315794f3",
      "metadata": {
        "id": "315794f3"
      },
      "source": [
        "#### CHECKING FOR ASSUMPTIONS"
      ]
    },
    {
      "cell_type": "markdown",
      "id": "dd7d45c3",
      "metadata": {
        "id": "dd7d45c3"
      },
      "source": [
        "##### NORMALITY"
      ]
    },
    {
      "cell_type": "code",
      "execution_count": null,
      "id": "f9cf9c46",
      "metadata": {
        "ExecuteTime": {
          "end_time": "2023-08-15T15:41:25.232490Z",
          "start_time": "2023-08-15T15:41:24.807826Z"
        },
        "id": "f9cf9c46"
      },
      "outputs": [],
      "source": [
        "plt.figure ( figsize = ( 20 , 10 ) )\n",
        "\n",
        "sns.histplot ( ( Y_XGB - Test_Y ) , bins = 60 , color = '#773344' )\n",
        "\n",
        "Y_Train_XGB = Pipeline_XGB.predict ( Train_X )\n",
        "\n",
        "plt.figure ( figsize = ( 20 , 10 ) )\n",
        "\n",
        "sns.histplot ( ( Y_Train_XGB - Train_Y ) , bins = 60 , color = '#8DA7BE' );"
      ]
    },
    {
      "cell_type": "code",
      "execution_count": null,
      "id": "373cb9b9",
      "metadata": {
        "ExecuteTime": {
          "end_time": "2023-08-15T15:41:25.248132Z",
          "start_time": "2023-08-15T15:41:25.232490Z"
        },
        "id": "373cb9b9"
      },
      "outputs": [],
      "source": [
        "Error_Train = Train_Y - Y_Train_XGB\n",
        "\n",
        "print ( \"The skewness value of Train is : \", np.round ( Error_Train.skew ( ) , 2 ) )\n",
        "\n",
        "print ( \"\\nThe kurotis value of Train is : \", np.round ( Error_Train.kurt ( ) + 3 , 2 )  )"
      ]
    },
    {
      "cell_type": "code",
      "execution_count": null,
      "id": "6651b7cc",
      "metadata": {
        "ExecuteTime": {
          "end_time": "2023-08-15T15:41:25.261236Z",
          "start_time": "2023-08-15T15:41:25.248496Z"
        },
        "id": "6651b7cc"
      },
      "outputs": [],
      "source": [
        "Error_Test = Test_Y - Y_XGB\n",
        "\n",
        "print ( \"The skewness value of Test is : \", np.round ( Error_Test.skew ( ) , 2 ) )\n",
        "\n",
        "print ( \"\\nThe kurotis value of Test is : \", np.round ( Error_Test.kurt ( ) + 3 , 2 )  )"
      ]
    },
    {
      "cell_type": "markdown",
      "id": "fb9af10b",
      "metadata": {
        "id": "fb9af10b"
      },
      "source": [
        "##### HOMOSCEDASTICITY"
      ]
    },
    {
      "cell_type": "code",
      "execution_count": null,
      "id": "1456ebb6",
      "metadata": {
        "ExecuteTime": {
          "end_time": "2023-08-15T15:41:25.562915Z",
          "start_time": "2023-08-15T15:41:25.261715Z"
        },
        "id": "1456ebb6"
      },
      "outputs": [],
      "source": [
        "plt.figure ( figsize = ( 20 , 10 ) )\n",
        "\n",
        "sns.regplot ( x = Y_Train_XGB , y = Train_Y , color = '#4C2C69' , scatter_kws = { 's': 100 } , marker = '*' );\n",
        "\n",
        "plt.xlabel ( \"Predicted Values of Training Data\" );\n",
        "\n",
        "plt.ylabel ( \"Actual values of Training Data\" );\n",
        "\n",
        "plt.title ( \"Scatter plot for Homoscedasticity\" );"
      ]
    },
    {
      "cell_type": "markdown",
      "id": "05900c45",
      "metadata": {
        "id": "05900c45"
      },
      "source": [
        "##### LINEARITY"
      ]
    },
    {
      "cell_type": "code",
      "execution_count": null,
      "id": "616ba737",
      "metadata": {
        "ExecuteTime": {
          "end_time": "2023-08-15T15:41:25.859369Z",
          "start_time": "2023-08-15T15:41:25.564277Z"
        },
        "id": "616ba737"
      },
      "outputs": [],
      "source": [
        "plt.figure ( figsize = ( 20 , 10 ) )\n",
        "\n",
        "sns.regplot ( x = Y_XGB , y = Test_Y , color = '#011936' , scatter_kws = { 's': 100 } , marker = '*' );\n",
        "\n",
        "plt.xlabel ( \"Predicted Values of Test Data\" );\n",
        "\n",
        "plt.ylabel ( \"Actual values of Test Data\" );\n",
        "\n",
        "plt.title ( \"Assumption Check : Linearity\" );"
      ]
    },
    {
      "cell_type": "markdown",
      "id": "dd057608",
      "metadata": {
        "id": "dd057608"
      },
      "source": [
        "## COMPARING MODELS"
      ]
    },
    {
      "cell_type": "markdown",
      "id": "d2942c66",
      "metadata": {
        "id": "d2942c66"
      },
      "source": [
        "### GRAPHICAL COMPARISON"
      ]
    },
    {
      "cell_type": "code",
      "execution_count": null,
      "id": "070081ab",
      "metadata": {
        "ExecuteTime": {
          "end_time": "2023-08-15T15:41:25.983390Z",
          "start_time": "2023-08-15T15:41:25.859369Z"
        },
        "id": "070081ab"
      },
      "outputs": [],
      "source": [
        "ax = plt.gca ( )\n",
        "\n",
        "for i in [ LR_Performance_Metrics , DT_Performance_Metrics , RF_Performance_Metrics , AB_Performance_Metrics , GB_Performance_Metrics , XGB_Performance_Metrics ]:\n",
        "\n",
        "    sns.lineplot ( x = 'Performance Metric'  , y =  'Values' , data = i , palette = 'twilight' , markers = '*' , ax = ax );\n",
        "\n",
        "ax.legend ( [ 'Linear Regression' , 'Decision Tree' , 'Random Forest' , 'AdaBoost Regressor ( RF )' , 'Gradient Boosting Regressor' , 'Extreme Gradient Boosting Regressor' ] );"
      ]
    },
    {
      "cell_type": "markdown",
      "id": "f4a75e6e",
      "metadata": {
        "id": "f4a75e6e"
      },
      "source": [
        "### COMPARISON OF R2"
      ]
    },
    {
      "cell_type": "code",
      "execution_count": null,
      "id": "0c27294b",
      "metadata": {
        "ExecuteTime": {
          "end_time": "2023-08-15T16:24:20.618261Z",
          "start_time": "2023-08-15T16:24:20.609726Z"
        },
        "id": "0c27294b"
      },
      "outputs": [],
      "source": [
        "R2 = [ R2_LR , R2_R , R2_DT , R2_RF , R2_AB , R2_GB , R2_XGB ]\n",
        "\n",
        "R2 = pd.DataFrame ( { 'R2_Names' : [ 'R2_LR' , 'R2_R' , 'R2_DT' , 'R2_RF' , 'R2_AB' , 'R2_GB' , 'R2_XGB' ] , 'R2_values' : R2 } )\n",
        "\n",
        "R2.sort_values ( by = 'R2_values' , ascending = False )"
      ]
    },
    {
      "cell_type": "markdown",
      "id": "5d64db92",
      "metadata": {
        "id": "5d64db92"
      },
      "source": [
        "#### BEST MODEL"
      ]
    },
    {
      "cell_type": "markdown",
      "id": "b3f74922",
      "metadata": {
        "id": "b3f74922"
      },
      "source": [
        "    Based on the R2 scores obtained from the Random Forest, Gradient Boosting, and AdaBoost Regressor models, it can be\n",
        "    concluded that all three models perform well in explaining the variance in the target variable.\n",
        "    \n",
        "    The Random Forest model achieved the highest R2 score of 82.00%, closely followed by the Gradient Boosting model with\n",
        "    an R2 score of 81.82%, and the AdaBoost Regressor model exhibited a strong performance with an R2 score of 81.64%.\n",
        "    \n",
        "    "
      ]
    },
    {
      "cell_type": "code",
      "execution_count": null,
      "id": "2b77a4cc",
      "metadata": {
        "id": "2b77a4cc"
      },
      "outputs": [],
      "source": []
    }
  ],
  "metadata": {
    "kernelspec": {
      "display_name": "Python [conda env:base] *",
      "language": "python",
      "name": "conda-base-py"
    },
    "language_info": {
      "codemirror_mode": {
        "name": "ipython",
        "version": 3
      },
      "file_extension": ".py",
      "mimetype": "text/x-python",
      "name": "python",
      "nbconvert_exporter": "python",
      "pygments_lexer": "ipython3",
      "version": "3.12.7"
    },
    "toc": {
      "base_numbering": 1,
      "nav_menu": {},
      "number_sections": true,
      "sideBar": false,
      "skip_h1_title": true,
      "title_cell": "CONTENTS",
      "title_sidebar": "",
      "toc_cell": true,
      "toc_position": {
        "height": "120.505px",
        "left": "23px",
        "top": "149.986px",
        "width": "202.255px"
      },
      "toc_section_display": true,
      "toc_window_display": false
    },
    "colab": {
      "provenance": [],
      "include_colab_link": true
    }
  },
  "nbformat": 4,
  "nbformat_minor": 5
}